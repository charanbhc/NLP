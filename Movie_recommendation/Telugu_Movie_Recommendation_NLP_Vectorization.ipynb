{
 "cells": [
  {
   "cell_type": "code",
   "execution_count": 1,
   "id": "095318c8",
   "metadata": {},
   "outputs": [],
   "source": [
    "import numpy as np\n",
    "import pandas as pd\n",
    "import difflib\n",
    "from sklearn.feature_extraction.text import TfidfVectorizer\n",
    "from sklearn.metrics.pairwise import cosine_similarity"
   ]
  },
  {
   "cell_type": "code",
   "execution_count": 2,
   "id": "758e7041",
   "metadata": {},
   "outputs": [],
   "source": [
    "# loading the data from the csv file to apandas dataframe\n",
    "movies_data = pd.read_csv('movies_telugu.csv')"
   ]
  },
  {
   "cell_type": "code",
   "execution_count": 3,
   "id": "0e33286a",
   "metadata": {},
   "outputs": [
    {
     "data": {
      "text/html": [
       "<div>\n",
       "<style scoped>\n",
       "    .dataframe tbody tr th:only-of-type {\n",
       "        vertical-align: middle;\n",
       "    }\n",
       "\n",
       "    .dataframe tbody tr th {\n",
       "        vertical-align: top;\n",
       "    }\n",
       "\n",
       "    .dataframe thead th {\n",
       "        text-align: right;\n",
       "    }\n",
       "</style>\n",
       "<table border=\"1\" class=\"dataframe\">\n",
       "  <thead>\n",
       "    <tr style=\"text-align: right;\">\n",
       "      <th></th>\n",
       "      <th>Index</th>\n",
       "      <th>Movie</th>\n",
       "      <th>Year</th>\n",
       "      <th>Certificate</th>\n",
       "      <th>genres</th>\n",
       "      <th>Overview</th>\n",
       "      <th>Runtime</th>\n",
       "      <th>Rating</th>\n",
       "      <th>No.of.Ratings</th>\n",
       "    </tr>\n",
       "  </thead>\n",
       "  <tbody>\n",
       "    <tr>\n",
       "      <th>0</th>\n",
       "      <td>0</td>\n",
       "      <td>Bahubali: The Beginning</td>\n",
       "      <td>2015.0</td>\n",
       "      <td>UA</td>\n",
       "      <td>Action, Drama</td>\n",
       "      <td>In ancient India, an adventurous and darin...</td>\n",
       "      <td>159</td>\n",
       "      <td>8.1</td>\n",
       "      <td>99114</td>\n",
       "    </tr>\n",
       "    <tr>\n",
       "      <th>1</th>\n",
       "      <td>1</td>\n",
       "      <td>Baahubali 2: The Conclusion</td>\n",
       "      <td>2017.0</td>\n",
       "      <td>UA</td>\n",
       "      <td>Action, Drama</td>\n",
       "      <td>When Shiva, the son of Bahubali, learns ab...</td>\n",
       "      <td>167</td>\n",
       "      <td>8.2</td>\n",
       "      <td>71458</td>\n",
       "    </tr>\n",
       "    <tr>\n",
       "      <th>2</th>\n",
       "      <td>2</td>\n",
       "      <td>1 - Nenokkadine</td>\n",
       "      <td>2014.0</td>\n",
       "      <td>UA</td>\n",
       "      <td>Action, Thriller</td>\n",
       "      <td>A rock star must overcome his psychologica...</td>\n",
       "      <td>170</td>\n",
       "      <td>8.1</td>\n",
       "      <td>42372</td>\n",
       "    </tr>\n",
       "    <tr>\n",
       "      <th>3</th>\n",
       "      <td>3</td>\n",
       "      <td>Dhoom:3</td>\n",
       "      <td>2013.0</td>\n",
       "      <td>UA</td>\n",
       "      <td>Action, Thriller</td>\n",
       "      <td>When Sahir, a circus entertainer trained i...</td>\n",
       "      <td>172</td>\n",
       "      <td>5.4</td>\n",
       "      <td>42112</td>\n",
       "    </tr>\n",
       "    <tr>\n",
       "      <th>4</th>\n",
       "      <td>4</td>\n",
       "      <td>Ra.One</td>\n",
       "      <td>2011.0</td>\n",
       "      <td>U</td>\n",
       "      <td>Action, Adventure, Sci-Fi</td>\n",
       "      <td>When the titular antagonist of an action g...</td>\n",
       "      <td>156</td>\n",
       "      <td>4.6</td>\n",
       "      <td>37211</td>\n",
       "    </tr>\n",
       "    <tr>\n",
       "      <th>...</th>\n",
       "      <td>...</td>\n",
       "      <td>...</td>\n",
       "      <td>...</td>\n",
       "      <td>...</td>\n",
       "      <td>...</td>\n",
       "      <td>...</td>\n",
       "      <td>...</td>\n",
       "      <td>...</td>\n",
       "      <td>...</td>\n",
       "    </tr>\n",
       "    <tr>\n",
       "      <th>1395</th>\n",
       "      <td>1395</td>\n",
       "      <td>Maro Monagadu</td>\n",
       "      <td>1985.0</td>\n",
       "      <td>NaN</td>\n",
       "      <td>NaN</td>\n",
       "      <td>NaN</td>\n",
       "      <td>0</td>\n",
       "      <td>8.6</td>\n",
       "      <td>49</td>\n",
       "    </tr>\n",
       "    <tr>\n",
       "      <th>1396</th>\n",
       "      <td>1396</td>\n",
       "      <td>Jakkanna</td>\n",
       "      <td>2016.0</td>\n",
       "      <td>NaN</td>\n",
       "      <td>Comedy, Drama</td>\n",
       "      <td>The movie is about an attempt by Sunil the...</td>\n",
       "      <td>0</td>\n",
       "      <td>6.3</td>\n",
       "      <td>49</td>\n",
       "    </tr>\n",
       "    <tr>\n",
       "      <th>1397</th>\n",
       "      <td>1397</td>\n",
       "      <td>Muvva Gopaludu</td>\n",
       "      <td>1987.0</td>\n",
       "      <td>NaN</td>\n",
       "      <td>Drama, Romance</td>\n",
       "      <td>Muvva Gopaludu is a 1987 Indian Telugu film, D...</td>\n",
       "      <td>137</td>\n",
       "      <td>7.8</td>\n",
       "      <td>49</td>\n",
       "    </tr>\n",
       "    <tr>\n",
       "      <th>1398</th>\n",
       "      <td>1398</td>\n",
       "      <td>Ninney Ishta Paddaanu</td>\n",
       "      <td>2003.0</td>\n",
       "      <td>U</td>\n",
       "      <td>NaN</td>\n",
       "      <td>Hero Charan (Tarun) a middle class family ...</td>\n",
       "      <td>0</td>\n",
       "      <td>5.9</td>\n",
       "      <td>49</td>\n",
       "    </tr>\n",
       "    <tr>\n",
       "      <th>1399</th>\n",
       "      <td>1399</td>\n",
       "      <td>9 Nelalu</td>\n",
       "      <td>2001.0</td>\n",
       "      <td>U</td>\n",
       "      <td>Drama</td>\n",
       "      <td>Surendra marries Savitri, an orphan. In a ...</td>\n",
       "      <td>0</td>\n",
       "      <td>7.3</td>\n",
       "      <td>49</td>\n",
       "    </tr>\n",
       "  </tbody>\n",
       "</table>\n",
       "<p>1400 rows × 9 columns</p>\n",
       "</div>"
      ],
      "text/plain": [
       "      Index                        Movie    Year Certificate  \\\n",
       "0         0      Bahubali: The Beginning  2015.0          UA   \n",
       "1         1  Baahubali 2: The Conclusion  2017.0          UA   \n",
       "2         2              1 - Nenokkadine  2014.0          UA   \n",
       "3         3                      Dhoom:3  2013.0          UA   \n",
       "4         4                       Ra.One  2011.0           U   \n",
       "...     ...                          ...     ...         ...   \n",
       "1395   1395                Maro Monagadu  1985.0         NaN   \n",
       "1396   1396                     Jakkanna  2016.0         NaN   \n",
       "1397   1397               Muvva Gopaludu  1987.0         NaN   \n",
       "1398   1398        Ninney Ishta Paddaanu  2003.0           U   \n",
       "1399   1399                     9 Nelalu  2001.0           U   \n",
       "\n",
       "                                     genres  \\\n",
       "0                 Action, Drama               \n",
       "1                 Action, Drama               \n",
       "2              Action, Thriller               \n",
       "3              Action, Thriller               \n",
       "4     Action, Adventure, Sci-Fi               \n",
       "...                                     ...   \n",
       "1395                                    NaN   \n",
       "1396              Comedy, Drama               \n",
       "1397             Drama, Romance               \n",
       "1398                                    NaN   \n",
       "1399                      Drama               \n",
       "\n",
       "                                               Overview  Runtime  Rating  \\\n",
       "0         In ancient India, an adventurous and darin...      159     8.1   \n",
       "1         When Shiva, the son of Bahubali, learns ab...      167     8.2   \n",
       "2         A rock star must overcome his psychologica...      170     8.1   \n",
       "3         When Sahir, a circus entertainer trained i...      172     5.4   \n",
       "4         When the titular antagonist of an action g...      156     4.6   \n",
       "...                                                 ...      ...     ...   \n",
       "1395                                                NaN        0     8.6   \n",
       "1396      The movie is about an attempt by Sunil the...        0     6.3   \n",
       "1397  Muvva Gopaludu is a 1987 Indian Telugu film, D...      137     7.8   \n",
       "1398      Hero Charan (Tarun) a middle class family ...        0     5.9   \n",
       "1399      Surendra marries Savitri, an orphan. In a ...        0     7.3   \n",
       "\n",
       "      No.of.Ratings  \n",
       "0             99114  \n",
       "1             71458  \n",
       "2             42372  \n",
       "3             42112  \n",
       "4             37211  \n",
       "...             ...  \n",
       "1395             49  \n",
       "1396             49  \n",
       "1397             49  \n",
       "1398             49  \n",
       "1399             49  \n",
       "\n",
       "[1400 rows x 9 columns]"
      ]
     },
     "execution_count": 3,
     "metadata": {},
     "output_type": "execute_result"
    }
   ],
   "source": [
    "movies_data"
   ]
  },
  {
   "cell_type": "code",
   "execution_count": 4,
   "id": "64702b1c",
   "metadata": {},
   "outputs": [
    {
     "data": {
      "text/plain": [
       "(1400, 9)"
      ]
     },
     "execution_count": 4,
     "metadata": {},
     "output_type": "execute_result"
    }
   ],
   "source": [
    "movies_data.shape"
   ]
  },
  {
   "cell_type": "code",
   "execution_count": 5,
   "id": "2675356d",
   "metadata": {},
   "outputs": [
    {
     "name": "stdout",
     "output_type": "stream",
     "text": [
      "['genres', 'Overview', 'Rating', 'No.of.Ratings']\n"
     ]
    }
   ],
   "source": [
    "selected_features = ['genres','Overview','Rating','No.of.Ratings']\n",
    "print(selected_features)"
   ]
  },
  {
   "cell_type": "code",
   "execution_count": 6,
   "id": "07923cec",
   "metadata": {},
   "outputs": [],
   "source": [
    "# replacing the null valuess with null string\n",
    "\n",
    "for feature in selected_features:\n",
    "  movies_data[feature] = movies_data[feature].fillna('')"
   ]
  },
  {
   "cell_type": "code",
   "execution_count": 7,
   "id": "22cd4bfb",
   "metadata": {},
   "outputs": [],
   "source": [
    "combined_features = movies_data['genres'] + ' ' + movies_data['Overview'] + ' ' + movies_data['Rating'].astype(str) + ' ' + movies_data['No.of.Ratings'].astype(str)\n"
   ]
  },
  {
   "cell_type": "code",
   "execution_count": 8,
   "id": "a096b652",
   "metadata": {},
   "outputs": [],
   "source": [
    "vectorizer = TfidfVectorizer()"
   ]
  },
  {
   "cell_type": "code",
   "execution_count": 9,
   "id": "27647a8d",
   "metadata": {},
   "outputs": [],
   "source": [
    "feature_vectors = vectorizer.fit_transform(combined_features)"
   ]
  },
  {
   "cell_type": "code",
   "execution_count": 10,
   "id": "08cf0738",
   "metadata": {},
   "outputs": [
    {
     "name": "stdout",
     "output_type": "stream",
     "text": [
      "  (0, 821)\t0.3277804286675048\n",
      "  (0, 4198)\t0.20232583497450396\n",
      "  (0, 6057)\t0.29769485311168353\n",
      "  (0, 5783)\t0.16606927374019823\n",
      "  (0, 1332)\t0.18472690146173543\n",
      "  (0, 2484)\t0.2734051156037553\n",
      "  (0, 4043)\t0.2237014373247953\n",
      "  (0, 1966)\t0.28800946108940817\n",
      "  (0, 3135)\t0.243319540047934\n",
      "  (0, 1292)\t0.2074381264442197\n",
      "  (0, 3608)\t0.13572301085025607\n",
      "  (0, 1935)\t0.3277804286675048\n",
      "  (0, 1038)\t0.07568200769416801\n",
      "  (0, 924)\t0.29769485311168353\n",
      "  (0, 1027)\t0.11176873125593247\n",
      "  (0, 3047)\t0.1916864636571128\n",
      "  (0, 1037)\t0.28800946108940817\n",
      "  (0, 3034)\t0.16610306201447372\n",
      "  (0, 2183)\t0.0726613588372952\n",
      "  (0, 878)\t0.07781926703286678\n",
      "  (1, 693)\t0.2753522886535695\n",
      "  (1, 3333)\t0.22480545083026204\n",
      "  (1, 3587)\t0.2753522886535695\n",
      "  (1, 5828)\t0.26056828632523515\n",
      "  (1, 5595)\t0.11580415318442949\n",
      "  :\t:\n",
      "  (1399, 5463)\t0.42776714657270154\n",
      "  (1399, 3647)\t0.1699973485396792\n",
      "  (1399, 3928)\t0.19859499564069408\n",
      "  (1399, 2975)\t0.15564413301322122\n",
      "  (1399, 4080)\t0.16378287846806575\n",
      "  (1399, 3781)\t0.14496915446679343\n",
      "  (1399, 854)\t0.16571446166523054\n",
      "  (1399, 3700)\t0.14303757126962863\n",
      "  (1399, 4059)\t0.1845281856665029\n",
      "  (1399, 2875)\t0.08925625363275211\n",
      "  (1399, 4941)\t0.39718999128138816\n",
      "  (1399, 842)\t0.18852466698868475\n",
      "  (1399, 5770)\t0.14496915446679343\n",
      "  (1399, 6114)\t0.1309023444926022\n",
      "  (1399, 3462)\t0.09505610384822553\n",
      "  (1399, 1282)\t0.13217611765381124\n",
      "  (1399, 4936)\t0.14925204134124206\n",
      "  (1399, 2359)\t0.16571446166523054\n",
      "  (1399, 6127)\t0.07440506177280705\n",
      "  (1399, 5663)\t0.14968288816811695\n",
      "  (1399, 4031)\t0.055209830513900486\n",
      "  (1399, 1038)\t0.05218602170654531\n",
      "  (1399, 1027)\t0.23120814100249834\n",
      "  (1399, 3034)\t0.05726762716734149\n",
      "  (1399, 2183)\t0.05010315351084913\n"
     ]
    }
   ],
   "source": [
    "print(feature_vectors)"
   ]
  },
  {
   "cell_type": "code",
   "execution_count": 11,
   "id": "6a2fef1a",
   "metadata": {},
   "outputs": [],
   "source": [
    "similarity = cosine_similarity(feature_vectors)"
   ]
  },
  {
   "cell_type": "code",
   "execution_count": 12,
   "id": "dd785206",
   "metadata": {},
   "outputs": [
    {
     "name": "stdout",
     "output_type": "stream",
     "text": [
      "(1400, 1400)\n"
     ]
    }
   ],
   "source": [
    "print(similarity.shape)"
   ]
  },
  {
   "cell_type": "code",
   "execution_count": 13,
   "id": "4c8693c0",
   "metadata": {
    "scrolled": true
   },
   "outputs": [],
   "source": [
    "movie_name = input(' Enter your favourite movie name : ')"
   ]
  },
  {
   "cell_type": "code",
   "execution_count": 14,
   "id": "6bdd6cba",
   "metadata": {},
   "outputs": [
    {
     "name": "stdout",
     "output_type": "stream",
     "text": [
      "['Bahubali: The Beginning', 'Baahubali 2: The Conclusion', '1 - Nenokkadine', 'Dhoom:3', 'Ra.One', 'Dhoom:2', 'Eega', 'Krrish 3', 'Arjun Reddy', 'Rangasthalam', 'Magadheera', 'War', 'Bharat Ane Nenu', 'Saaho', 'Theri', 'Dookudu', 'Pokiri', 'Sarkar', 'Athadu', 'The Ghazi Attack', 'Kabali', 'MSG: The Messenger of God', 'Nanban', 'Srimanthudu', 'Veer - Vivegam', 'Billa 2', 'Manam', '7 Aum Arivu', 'Bigil', 'Business Man', 'Geetha Govindam', 'Mahanati', 'Spyder', 'Nannaku Prematho', 'Dabangg 3', 'MSG 2 the Messenger', 'Manikarnika: The Queen of Jhansi', 'Race Gurram', 'Okkadu', 'Bommarillu', 'Atharintiki Daaredi', 'Khaleja', 'Yennai Arindhaal', 'Thalaivaa', 'Kaala', 'Bairavaa', 'Goodachari', 'Puli', 'Pulimurugan', 'Veeram', 'Vedam', 'Yevadu', 'Aravindha Sametha Veera Raghava', 'Billa', 'Jersey', 'Sye Raa Narasimha Reddy', 'Ala Vaikunthapurramuloo', 'Janatha Garage', 'Gabbar Singh', 'Temper', 'Game Over', 'Singam 2', 'Dhruva', 'Jalsa', 'Maharshi', 'Pelli Choopulu', 'Arya 2', 'Chekka Chivantha Vaanam', 'Naa Peru Surya Na Illu India', 'Ki & Ka', 'Seethamma Vakitlo Sirimalle Chettu', 'Singam 3', 'Agent Sai Srinivasa Athreya', 'Jai Lava Kusa', 'Arya', 'Maattrraan', 'Kochadaiiyaan', 'Thaanaa Serndha Koottam', 'OK Kanmani', 'Dear Comrade', 'Happy Days', 'Sarileru Neekevvaru', 'Julayi', 'Kshanam', 'Oopiri', 'Baadshah', '3', 'Sarrainodu', 'Kick', 'Leader', 'Anjaan', 'Khushi', 'Maya Bazaar', 'Rakhta Charitra', 'Mirchi', 'Chatrapathi', 'C/o Kancharapalem', 'Sachein', 'Murari', 'Vikramarkudu', 'Kuruthipunal', 'Brindaavanam', 'Panjaa', 'Nuvvu Naaku Nachchav', 'Gopala Gopala', 'Kaappaan', 'Aagadu', 'Masss', 'Maanagaram', 'Drushyam', 'Yamadonga', 'S/O Satyamurthy', 'Tholi Prema', 'Awe!', 'Yatra', 'Fidaa', 'Oosaravelli', 'Evaru', 'Odiyan', 'Khaidi No 150', 'NGK', 'Duvvada Jagannadham', 'Bale Bale Magadivoy', 'Shiva', 'Manmadhudu', 'Mr Perfect', 'Orange', 'Anirudh', 'Gamyam', 'Kanche', 'Naayak', 'Malliswari', 'Nuvvostanante Nenoddantana', 'Ye Maaya Chesave', 'Sagara Sangamam', 'Rudhramadevi', 'Cameraman Gangatho Rambabu', 'Majili', 'Uttama Villain', 'Arundhati', 'Agnyaathavaasi', 'Pilla Zamindar', '100% Love', 'Aa Naluguru', 'Darling', 'Aha Naa Pellanta', 'Vinaya Vidheya Rama', 'Happy', 'Ala Modalaindi', 'Prasthanam', 'Dhee', 'Iddarammayilatho', 'Simhadri', 'Taxiwaala', 'Parugu', 'Rakhta Charitra 2', 'Maryada Ramanna', 'Rachcha', 'HIT', 'Nota', 'U Turn', 'Thammudu', 'Zanjeer', 'Ezra', 'Bhaagamathie', 'Adhurs', 'Aditya 369', 'Sardaar Gabbar Singh', 'Gitanjali', 'Ninnu Kori', 'Indra', 'Vishwaroopam 2', 'Oru Adaar Love', 'Tholi Prema', 'Brochevarevarura', '7/G Rainbow Colony', 'Tagore', 'Gang Leader', 'Bujjigaadu: Made in Chennai', 'Sye', 'Yevade Subramanyam', 'Mathu Vadalara', 'Katamarayudu', 'Maari 2', 'Gautamiputra Satakarni', 'Rx 100', 'A... Aa', 'Aalavandhan', 'F2: Fun and Frustration', 'The House Next Door', 'Krishna Gaadi Veera Prema Gaadha', 'Prince', 'Sankarabharanam', 'Thoongaavanam', 'Govindudu Andari Vaadele', 'Anand', 'Raja Kumarudu', 'Baba', 'Dhammu', 'Ramayya Vastavayya', 'NTR: Kathanayakudu', 'Chirutha', 'Thaandavam', 'Athidhi', 'Kshana Kshanam', 'Penguin', 'Rudra Veena', 'Legend', 'Annamayya', 'Badrinath', 'Nenu Local', 'Oh Baby...', 'Sketch', 'Hello Guru Prema Kosame', 'Rabhasa', 'Sainikudu', 'Ishq', 'Arjun', 'Badri', 'Krishnarjuna', 'Hello', 'Saleem', 'Nijam', 'Bruce Lee: The Fighter', 'MCA Middle Class Abbayi', 'Ee Nagaraniki Emaindi', 'Nenu Sailaja', 'Gentleman', 'Student No. 1', 'Kumari 21F', 'Billa', 'Love Ke Liye Kuch Bhi Karega', 'Run Baby Run', 'Chitralahari', 'Shankar Dada MBBS', 'Teen Maar', 'Kanthaswamy', 'Komaram Puli', 'Rebel', 'iSmart Shankar', 'Anukokunda Oka Roju', 'Bheeshma', 'Karthikeya', 'Desamuduru', 'Gunde Jaari Gallanthayyinde', 'Pailwan', 'World Famous Lover', 'Theeya Velai Seiyyanum Kumaru', 'Raja The Great', 'Kadaram Kondan', 'Sammohanam', 'Simha', 'Aithe', 'Takkari Donga', 'Kadhalil Sodhappuvadhu Yeppadi', 'Pammal K. Sambandam', 'Kanchana 2', 'Saroja', 'Vel', 'Pandavulu Pandavulu Thummeda', 'Doosukeltha', 'Gundamma Katha', 'Oohalu Gusagusalade', 'Rowdy', 'Devadas', 'Sokkali Mainor', 'Dhenikaina Ready', 'Political Rowdy', 'Anukshanam', 'Stalin', 'Godavari', 'Suryam', 'Balu', 'Savyasachi', 'Nene Raju Nene Mantri', 'Varsham', 'Kaashmora', 'Run Raja Run', 'Abhiyum Naanum', 'Eedo Rakam Aado Rakam', 'Asthram', 'Ready', 'Irandam Ulagam', 'Sree', 'Aadi', 'Jhummandi Naadam', 'Pandurangadu', 'Naani', 'Game', 'Shatamanam Bhavati', 'Mass', 'Swamy Ra Ra', 'Ekkadiki Pothavu Chinnavada', 'Amazon Obhijaan', 'Chi La Sow', 'Kaathala Kaathala', 'Kanchana 3', 'Vishnu', 'Rakhi', 'Oh My Friend', 'Balupu', 'Aadavari Matalaku Ardhalu Verule', 'Prayanam', 'Antariksham 9000 kmph', 'Konchem Ishtam Konchem Kashtam', 'Jamba Lakidi Pamba', 'Kotigobba 2', 'Kaadhal', 'Current Theega', 'MalliRaava', 'Saahasam Swaasaga Saagipo', 'Premam', 'Johnny', 'King', 'Endrendrum Punnagai', 'Mugamoodi', 'NTR Mahanayakudu', 'PSV Garuda Vega', 'Kurukshetra', 'Uu Kodathara Ulikki Padathara', 'Mr. Nookayya', 'Mirapakai', 'Nenu Meeku Telusa...?', 'Satya 2', 'Pooja', 'Naan Sigappu Manithan', 'Sakthi', 'Uyyala Jampala', 'Khadgam', 'Major Chandrakanth', 'Bachchan', 'Manu', 'Hyderabad Blues', 'Bunny', 'Ragile Gundelu', 'Sri Rama Rajyam', 'Varudu', 'Rakshasudu', 'Gharshana', 'Gaganam', 'Amar Akbar Anthony', 'Kathakali', 'Krishnarjuna Yudham', 'Express Raja', 'Kuselan', 'Don', 'Kantri', 'Malli Malli Idhi Rani Roju', 'Raju Bhai', 'Ayogya', 'Gudumba Shankar', 'Potugadu', 'Vastadu Naa Raju', 'Dubai Seenu', 'Dongata', 'Sahasam', 'Dynamite', 'Alex Pandian', 'Ragada', 'Run', 'Chalo', 'Munna', 'Disco Raja', 'Krishna and His Leela', 'Yeto Vellipoyindhi Manasu', 'Praana', 'Shankardada Zindabad', 'Padi Padi Leche Manasu', 'Punya Bhoomi Naa Desam', 'Quick Gun Murugun: Misadventures of an Indian Cowboy', 'Adavilo Anna', 'Thamizh Padam', 'Ek Niranjan', 'Annavaram', 'Bindaas', 'Prema Katha Chitram', 'Jagadeka Veerudu Athiloka Sundari', 'Vismayam', 'Missamma', 'Gaddalakonda Ganesh', 'Oka Laila Kosam', 'Venky Mama', 'Kick 2', 'Gayatri', '180', 'Shourya', 'Ashta Chamma', 'Sigappu Rojakkal', 'LIE', 'Power', 'Dev', 'Pataas', 'Okkadu Migiladu', 'Majnu', 'Srinivasa Kalyanam', 'Luck Unnodu', 'Amma Nanna O Tamila Ammayi', 'Jayasurya', 'Bangaram', 'Dora', 'Don Seenu', 'Vunnadhi Okate Zindagi', 'Krishnam Vande Jagadgurum', 'Killing Veerappan', 'Gunturodu', 'Mr. Majnu', 'Not Today', 'Oy!', 'Nuvve.. Nuvve...', 'Loukyam', 'Swathi Muthyam', 'Life Is Beautiful', 'Yuvaraju', 'Chal Mohan Ranga', 'Vamsee', 'Endukante... Premanta', 'Veyyil', 'Mallesham', 'Attack', 'Mosagallaku Mosagadu', 'Kandireega', 'Raju Gari Gadhi 2', 'Superstar Kidnap', 'Pournami', 'Ninne Pelladatha', 'Shailaja Reddy Alludu', 'Jamba Lakidi Pamba', 'Jaya Janaki Nayaka', 'Akkada Ammayi Ikkada Abbayi', 'Pichhodu', 'Bobby', 'Okka Kshanam', 'Achari America Yathra', 'Sathyaa', 'Bengal Tiger', 'Ashok', 'Coolie No. 1', 'Pathala Bhairavi', 'Goutham Nanda', 'Gang Leader', 'Golmaal', 'Mahanubhavudu', '118', 'Heart Attack', 'Dictator', 'Idiot', 'Neninthe', 'Rarandoi Veduka Chudham', 'Aswathama', 'Yamajaathakudu', 'Jaanu', 'Neevevaro', 'Power Unlimited 2', 'Guru', 'Kee', 'Jagadam', 'Daruvu', 'Damarukam', 'Super', 'Krishna: The Power of Indrakeeladri', 'Chakram', 'Size Zero', 'Bhadra', 'Erra Buss', \"Lakshmi's NTR\", 'Dhoni', 'Appatlo Okadundevadu', 'Akhil', 'Daana Veera Soora Karna', 'Aadhi Bhagavan', 'Devudu Chesina Manushulu', 'Falaknuma Das', 'Raju Maharaju', 'Adhipathi', 'Peda Rayudu', 'Nela Ticket', 'Prati Roju Pandaage', 'Veera', 'Kotha Bangaru Lokam', 'Santosham', 'Venky', 'Jai Simha', 'Nuvve Kavali', 'Samba', 'Lava Kusa', 'George Reddy', 'Subramanyam for Sale', 'Bhoot Returns', 'Suswagatham', 'Dohchay', 'Andala Rakshasi', 'Raja', 'Sambo Siva Sambho', 'Okkadunnadu', 'Manmadhudu 2', 'Paisa Vasool', 'Lakshmi', 'Chantabbai', 'Anji', 'Dhada', 'Uthama Puthiran', 'Jai Chiranjeeva', 'Magalir Mattum', 'Anaganaga O Dheerudu', 'Supreme Khiladi', 'Aakali Rajyam', 'Okka Magadu', 'Phoonk 2', 'Tappu Chesi Pappu Koodu', 'Bhairava Dweepam', 'Needi Naadi Oke Katha', 'Narasimha Naidu', 'Guru', 'Chintakayala Ravi', 'Yogi', 'Yaman', 'Anando Brahma', 'Vanaja', 'Raja Vaaru Rani Gaaru', 'Gangotri', 'Golimar', 'Narasimhudu', 'Swayam Krushi', 'Mental Madhilo', 'Gaayam', 'Rayalaseema Ramanna Chowdary', 'Gokulamlo Seetha', 'Rajanna', 'Madha', 'Hushaaru', 'Settai', 'Swarnakamalam', 'Tadakha', 'Nenu Naa Rakshasi', 'Diya', 'Vikram', 'Kadhal Desam', 'Mudra', 'Naa Autograph Sweet Memories', 'Dum Dum Dum', 'Challenge', 'Kalisundam Raa', 'Pandaga Chesko', 'Lakshmi', 'Daddy', 'Seetha', 'Kalki', 'Parama Veera Chakra', 'Samarasimha Reddy', 'Andhrawala', 'Hyper', 'Kalloori', 'Veera', 'Criminal', 'Gharana Mogudu', 'Namo Venkatesa', 'Karnan', 'Annayya', 'Mesthri', 'Little Soldiers', 'Alludu Seenu', 'Yuddham Sharanam', 'Khaidi', 'Shiva Shankar', 'Bavagaru Bagunnara?', 'Nannu Dochukunduvate', 'Hello Brother', 'Naa Alludu', 'Shamantakamani', 'Thulasi', 'Keshava', 'Maja', 'Aata', 'Choodalani Vundi', 'Ranarangam', 'Mukunda', 'Allari Police', 'Kirrak Party', 'Chenna Kesava Reddy', 'Sarocharu', 'Nadunisi Naaygal', 'Nagavalli', 'Ennaku 20 Unakku 18', 'Bodyguard', 'Raju Gari Gadhi 3', 'Josh', 'Greeku Veerudu', 'Lakshmi Narasimha', 'Autonagar Surya', 'Style', 'Shivamani', 'Surya vs. Surya', 'Swathi Kiranam', 'Alluda Majaaka!', 'Kavacham', 'Chinnadana Nee Kosam', 'Hrudaya Kaleyam', 'Mama Manchu Alludu Kanchu', 'Prathinidhi', 'Meesrti', 'Khatarnak', 'Ritu', 'Sri Ramadasu', 'Jawaan', 'Maalai Nerathu Mayakkam', 'Janaki Ramudu', 'Koduku Diddina Kapuram', 'Subedar Joginder Singh', 'Anasuya', 'Postman', 'Seven', 'Jil', 'Solo', 'Andarivaadu', 'Anthahpuram', 'Samrat Ashok', 'Aapathbandavudu', 'Aaha Kalyanam', 'Allari Pidugu', 'Officer', 'Paisa', 'Yaan', 'Alluri Seetharama Raju', 'Adavi Donga', 'Madhuram', 'Vasu', 'Shiva', 'Saakshyam', 'Shadow', 'Babu Bangaram', 'Shivam', 'Rayudu', 'Lion', 'Pantham', 'Govindha Govindha', 'Nippu', 'Pasivadi Pranam', 'Chanakya', 'Kondaveeti Raja', 'Jessie', 'Ninu Veedani Needanu Nene', 'E', 'Ramayanam', 'Meeku Matrame Chepta', 'Jay Jay', 'Naaga', 'Venkatadri Express', 'Golkonda High School', 'Khaidi No. 786', 'Morning Raga', 'Hitler', 'Anjaneyulu', 'Khaidi Garu', 'Thimiru', 'Loafer', 'Collector Garu', 'Tej I Love U', 'Winner', 'Anveshana', 'Ism', 'Abhinetri', 'Allari Ramudu', 'Devadasu', 'Kodama Simham', 'April 1 Vidudala', 'Lankeshwarudu', 'Kondaveeti Donga', 'O Pitta Katha', 'Mutamestri', 'Subbu', 'Pilla Nuvvu Leni Jeevitham', 'Sri Ramulayya', 'Boss', 'Anaganaga Oka Roju', 'Raghavendra', 'Kondaveeti Simhasanam', 'Cinema Chupista Maava', 'Sri Jagadguru Adi Shankara', 'Hawaa', 'Toofan', 'Ongole Githa', 'Chukkallo Chandrudu', 'Indrudu Chandrudu', 'Sankranthi', 'Aa Okkati Adakku', 'Eeshwar', 'Ratchakan', 'Maruthu', 'Yamudiki Mogudu', 'Police Police', 'Evvarikee Cheppoddu', 'Sudigaadu', 'Rama Rama Krishna Krishna', 'Geethanjali', 'Padamati Sandhya Ragam', 'Sri Manjunatha', 'Vennela', 'Jaguar', 'Marshal', 'Master', 'Maska', 'Assembly Rowdy', 'Mehbooba', 'Sneham Kosam', 'Sindhu Bhairavi', 'Adhinayakudu', 'Lakshyam', 'Adavi Ramudu', 'Kunti Puthrudu', 'Mathangi', 'Brahma', 'Alludugaru', 'Oka Chinna Viramam', 'Nenu Lenu', 'Mrugaraaju', 'Bharani', 'Dil', 'Ullasanga Utsahanga', 'Kedi', 'Shock', 'Jyo Achyutananda', 'Mithunam', 'Palasa 1978', 'Maro Charithra', 'Pelli Pustakam', 'Boy', 'Yamaleela', 'Suryavamsam', 'Kaakki Sattai', 'Ammoru', 'Ninnu Choodalani', 'Premante Idera', 'Devadasu', 'Ninaithale Inikkum', 'Jayam', 'Mugguru', 'Ganesh', 'Arjun Reddy', 'Vangaveeti', 'Chandamama Kathalu', 'Chandamama', 'Rowdy Fellow', 'Shirdi Sai', 'Sisindri', 'Manasantha Nuvve', 'Seetharamaiah Gari Manavaralu', 'Bhale Manchi Roju', 'Devi Putrudu', 'Super Duper', 'Subhash Chandra Bose', 'Hyderabad Blues 2', 'Vijetha', 'Veera Bhoga Vasantha Rayalu', 'Tik Tik Tik', 'Detective Naarada', 'Kalyana Vaibhogame', 'Heza', 'Narthanasala', 'Nenunnanu', 'Ganesh', 'Veedevadandi Babu', 'Sirivennela', 'Routine Love Story', 'Intlo Illalu Vantaintlo Priyuralu', 'Guna 369', 'Anandam', 'Masala', 'Entha Manchivaadavuraa', 'Ruler', 'Om Namo Venkatesaya', 'Gundello Godari', 'Rowdy Gari Pellam', 'Paper Boy', 'Mister', 'Raju Gari Gadhi', 'Thodarum', 'Allari Mogudu', 'Nirnayam', 'Dharma Bhai', 'Software Sudheer', 'Bhageeratha', 'Azaad', 'Minugurulu', 'Raaja Paarvai', 'Vijayendra Varama', 'Mogudu', 'Jayam Manadera', 'Oxygen', 'Athaku Yamudu Ammayiki Mogudu', 'Sindhooram', 'Bezawada', 'Satyam', 'Avunu Valliddaru Ishtapaddaru', 'Baladoor', '2 Hours Love', 'Sakalakala Vallavan', 'MLA', 'Appula Appa Rao', 'Radha', 'Ladies Tailor', 'Abhilasha', 'Srimannarayana', 'Katha Screenplay Darsakatvam: Appalaraju', 'Chandralekha', 'Maharadhi', 'Speedunnodu', 'Subhalekha', 'Asura', 'Palnati Brahmanayudu', '@ Nartanasala', 'Nuvvu Nenu', 'Rowdy Mogudu', 'Vijetha', 'Ravoyi Chandamama', 'Dream', 'Preminchukundam Raa', 'Vasantham', 'Chanti', 'Bobbili Raja', 'Kataka', 'Dongala Mutha', 'Chitemma Mogudu', 'Subha Sankalpam', 'Maa Inti Katha', 'W/o Ram', 'James Bond', 'Padmavyuham', 'Avunu', 'Veerabhadra', 'Iddaru Mitrulu', 'Singham123', 'Anaamika', 'Sasirekha Parinayam', 'Bendu Apparao RMP', 'Rajaratha', 'Danger', 'Andari Bandhuvaya', 'Seenu', 'Janda Pai Kapiraju', 'Deyyam', 'Rowdy Alludu', 'Krishna Aur Kans', 'Seema Tapakai', 'Mahathma', 'Baanam', 'Bhai', 'Itlu Sravani Subramanyam', 'Sathyam', 'Bhale Ramudu', 'Pressure Cooker', 'Ranam', 'Aavida Maa Aavide', 'Alavuddinum Athbutha Vilakkum', 'Naa Mogudu Nanke Sontham', 'Sri Anjaneyam', 'Chiru Navvuto', 'Operation Gold Fish', 'Subrahmanyapuram', 'Baava', 'Veera Prathap', 'Courier Boy Kalyan', 'Jabardasth', 'Pellam Oorelithe', 'Hanuman Junction', 'Money', 'Ninnu Thalachi', 'Jayammu Nischayammuu Raa', 'A Film by Aravind', 'Ye Mantram Vesave', 'Bhakta Prahlada', 'Souryam', 'Blade Babji', 'Devi', 'Gulabi', 'Rajendrudru Gajendrudru', 'Lovely', 'Adhirindhi Alludu', 'Andhrudu', 'Malliswari', 'Bluff Master', 'Aatagadharaa Siva', 'Rechipo', 'Kadhal Sadugudu', 'Ra Ra Krishnayya', 'Nuvvu Vasthavani', 'Prathigna', 'Life Before Wedding', 'Silly Fellows', 'Donga Police', 'Sundara Kanda', 'Chitram Bhalare Vichitram', 'Ninne Premistha', 'Sahasa Veerudu Sagara Kanya', 'Bhookailas', 'Antham', 'Ami Thumi', 'Oka Manasu', 'Aatadista', 'Poola Rangadu', 'Kitakitalu', 'Money Money', 'Prema Katha', 'Enga Veetu Pillai', 'Missamma', 'Sitaramaraju', 'Desa dimmari', 'Sparsha', 'Case No. 666/2013', 'I Love You', 'Nayaki', 'Ee Rojullo', 'Kamma Rajyam Lo Kadapa Reddlu', 'Mugguru Monagallu', '24 Kisses', 'Next Enti?', 'Naa Bangaaru Talli', 'Anthaka Mundu Aa Tarvatha', 'Edadugula Bandham', 'Naa Nuvve', 'All the Best', 'Ranga (S.S.L.C)', 'Maanavudu Daanavudu', 'Athanokkade', 'Seema Sastry', 'Amma Cheppindi', 'Kalyanaraman', 'Sankham', 'Ride', 'Ave Kallu', 'Suryakantham', 'Bhale Dongalu', 'Kousalya Krishnamurthy', 'Andhhagadu', 'Okka Ammayi Thappa', 'Bheemli Kabadi Jattu', 'Naa Ishtam', 'Saptapadhi', 'Voter', 'Sankarabharanam', 'Chaarulatha', 'Prema Kavali', 'Ontari', 'Killer', 'Mr. Pellam', 'Ammammagarillu', 'Brand Babu', 'Bama Vijayam', 'Mitrudu', 'Mr. Medhavi', 'Dharma Chakram', 'Chettu Kinda Pleader', 'Hippi', 'Aha Naa Pellanta', 'Veta', 'Aatagallu', 'Thikka', 'Dorasani', 'Allari Bullodu', 'Peddarikam', 'Kalathur Kannamma', 'Raju Gadu', 'Guntur Talkies', 'Kshemanga Velli Labhamga Randi', 'Kotha Janta', 'Iddari Lokam Okate', 'Eduruleni Manishi', 'Mathru Devo Bhava', 'Kittu Unnadu Jagratha', 'Ice Cream', 'Nuvva Nena', 'Rama Chakkani Seetha', 'Jappanil Kalyanaraman', 'Idaya Kovil', 'Jaihind 2', 'Nuvvila', 'Srivaariki Premalekha', 'Mard Ki Zabaan 2', 'Hyderabad Nawabs', 'Veede', 'Nari Nari Naduma Murari', 'Mayalodu', 'Raja Vikramarka', 'ABCD: American-Born Confused Desi', 'Alludu Diddina Kapuram', 'Hare Ram', 'Yamagola', 'Meendum Kokila', 'M Dharmaraju M.A.', 'Prema Panjaram', 'Tenali Ramakrishna BA.BL', 'Gowtham SSC', 'Kanchana', 'Mayuri', 'Swayamvaram', 'Seetharamula Kalyanam Lankalo', 'Pavitra Bandham', 'Bala Gopaludu', 'Yuvakudu', 'Jayammu Nischayammu Raa!', 'Manchi Donga', 'Big Boss', 'Idam Jagath', 'Happy Wedding', 'Nuvvu Leka Nenu Lenu', 'Thoongathey Tambi Thoongathey', 'Yamudiki Mogudu', 'Bommana Brothers Chanadana Sisters', 'Rowdy Inspector', 'Sontham', 'Annai Oru Aalayam', 'Wanted', 'Panchakshari', 'Snehamante Idera', 'Soggadi Pellam', 'Bhale Donga', '1st Rank Raju', 'Dongodu', 'Devullu', 'Sardar Papa Rayudu', 'Srinivasa Kalyanam', 'Pourudu', 'Amrutha Ramam', 'Prematho Raa', 'Bumper Offer', 'Mangamma Gari Manavadu', 'Yudda Bhoomi', 'Rayalaseema Love Story', 'Soggadu', 'Budget Padmanabham', 'Swargam Narakam', 'Manmatha Leelai', 'Emo Gurram Egaravachu', 'Ayyare', 'Valayam', 'Babai Abbai', 'Two Town Rowdy', 'State Rowdy', 'Aradhana', 'Idhi Mamulu Prema Katha Kaadu', 'Rey', 'Prema Yuddham', 'Samudram', 'Kabaddi Kabaddi', 'Sruthilayalu', 'Rikshavodu', 'Muthyala Muggu', 'Napoleon', 'Bazaar Rowdy', 'Pelli Sandadi', 'Idi Ma Prema Katha', 'Babu Baga Busy', 'Rogue', 'Bhanumathi & Ramakrishna', 'S. P. Parasuram', 'Ala Ela', 'Kevvu Keka', 'Mantra', 'Runam', 'Choopulu Kalasina Subhavela', 'Manoharam', 'Agni', 'Appu Chesi Pappu Koodu', 'Siddu from Srikakulam', 'Nachavule', 'Yagnam', 'Mee Sreyobhilashi', 'Kadapa Redamma', 'Ghatotkachudu', 'Jagadeka Veeruni Katha', 'Kanyasulkam', 'Snehamera Jeevitham', 'Kobbari Matta', 'Dhruvanakshatram', 'Per Sollum Pillai', 'Vivaha Bhojanambu', 'Shanti Kranti', 'Sukumarudu', 'Fitting Master', 'Operation Duryodhana', 'Prema', 'Mooga Manasulu', 'Ontari Poratam', 'Tandra Paparayudu', 'Nireekshana', 'Premaabhishekam', 'Savaari', 'Surya IPS', 'Maharasan', 'Chakravarthy', 'Lover', 'Jadoogadu', 'Allari Alludu', 'Pandava Vanavasamu', 'Mechanic Alludu', 'Kondaveeti Simham', 'Malini 22', 'Bobbili Simham', 'Show', 'Varasudochhadu', 'Family Circus', 'Edurinti Mogudu Pakkinti Pellam', 'Adavi Ramudu', 'Donga', 'Aakhari Poratam', 'Rough', 'Paathshala', 'Kathi Kanta Rao', 'Pelli Chesukundam', 'Black Tiger', 'Sri Krishna Pandaveeyam', 'Nakshatram', 'Subhalagnam', 'Hai Hai Nayaka', 'Om Shanti', 'Pellaina Kothalo', 'Anukunnadi Okkati Ayyindhi Okati', 'Grahanam', 'Chinnabaabu', 'Karthavyam', 'Raakshasudu', 'Neeya', 'D for Dopidi', 'Mugguru Kodukulu', 'Balachandrudu', 'Vinodam', 'Vijay', 'Sri Shirdi Saibaba Mahathyam', 'Anthuleni Katha', 'Mithai', 'Tiger', 'Luv U Alia', 'Brother of Bommali', 'Mr. Pellikodukku', 'Broker', 'Current', 'Evadi Gola Vadide', 'Bangaru Bullodu', 'Karma', 'Murali Krishnudu', 'Varasudu', 'Seetha Rama Kalyanam', 'Rendu Rella Aaru', 'Sampoorna Ramayanam', 'Chuttalabbayi', 'Columbus', 'Raagala 24 Gantallo', 'Andala Ramudu', 'Brahma Puthrudu', 'Alibaba Aradajanu Dongalu', 'Thipparaa Meesam', 'Sitaara', 'Chettaniki Kallu Levu', 'Manasuku Nachindhi', 'Om 3D', 'Action', 'Dongala Bandi', 'Sultan', 'Love Today', 'Samanyudu', 'Sathruvu', 'Gandeevam', 'Punnami Naagu', 'Jyothi Lakshmi', 'Avakai Biryani', 'Lorry Driver', 'Padaharella Vayasu', 'Prananiki Pranam', 'Akasa Veedhilo', 'Totti Gang', 'Allari', 'Savitri', 'Peddinti Alludu', '143', 'Superman', 'Abhinandana', 'Justice Chowdhary', 'Gharana Bullodu', 'Intlo Ramayya Veedilo Krishnayya', 'Anna Thamudu', 'Krishnamma Kalipindi Iddarini', 'Nandhi', 'Sons of Ram', 'Kondapalli Raja', 'Bava Nachadu', 'Seema Simham', 'Sandade Sandadi', 'Donga Ramudu', 'Vetagadu', 'Sher', 'Kaamannana Makkalu', 'Vinayakudu', 'Dongaata', '90 ML', 'Kathanam', 'Ramudu Bheemudu', 'Patel S.I.R', 'Nagarahaavu', 'Selfie Raja', 'Wish You Happy Breakup', 'Lovers', 'Ramudochhadu', 'Radha Gopalam', 'Donga Mogudu', 'Rangula Raatnam', 'Adda', 'Kalidasu', 'Ela Cheppanu', 'Vishwanatha Nayakudu', 'Sri Madvirat Veera Brahmendra Swamy Charitra', 'Brahma', 'Madatha Kaaja', 'Dollar Dreams', 'Betting Bangarraju', 'Athili Sathibabu LKG', 'Vinara sodara veera kumara', 'Tenali Ramakrishna', 'Maharshi', 'Idi Kathakaadu', 'Agni Nakshatram', 'Bandipotu', 'Onamalu', 'Vaana', 'Jodi', 'Madhumasam', 'Bhakta Prahlada', 'Team 5', 'Sandhippoma', 'Ice Cream 2', 'Okkadine', 'Kiccha Huccha', 'Visakha Express', 'Aaviri', 'Brindavanam', 'Rudranetra', 'Kaali', 'Bobbili Puli', 'Manavoori Pandavulu', 'Next Nuvve', 'Joru', 'Ko antey koti', 'Kalyan Ram Kathi', 'Priyamyna Neeku...', 'Vamsodharakudu', 'Super Police', 'Bamma Maata Bangaru Baata', 'Mantra 2', 'Prema Ishq Kaadhal', 'Galipatam', 'Katha', 'Peddannayya', 'Lakshmi Kalyanam', 'Avunanna Kadanna', 'Bava Bava Panneeru', 'Balakrishnudu', 'Partha', 'Athade Oka Sainyam', 'Rakshana', 'Garam', 'Raja Cheyyi Vesthe', \"It's My Love Story\", 'Okariki Okaru', 'Kurradu', 'Homam', 'Raahu', 'Gulebakavali Katha', 'Nene Raju Nene Manthri', 'Osey Ramulamma', 'Trinetrudu', 'Oka Oori Katha', 'Bhale Manchi Chowka Beram', 'Bhairava Geetha', 'Naanna Nenu Naa Boyfriends', 'Basanti', 'Mansara', 'Gaayam 2', 'Village lo Vinayakudu', 'Abbaigaru', 'Ammo Okato Tariku', 'Raksha', 'Stoovertpuram Police Station', 'Srimanthudu', 'Lakshmi Raave Maa Intiki', 'Mr. Theertha', 'Ee Abbai Chala Manchodu', 'Yemaindi Ee Vela', 'Aadu Puli Attam', 'Subhakankshalu', 'Samsaaram Oka Chadarangam', 'Intinti Bhagavatham', 'Driver Ramudu', 'Saradaga Kasepu', 'Snehithuda', 'Kaasi', 'Prema Pipasi', 'Uyarntha Ullam', 'Pekata Paparao', 'Praja pratinidhi', 'Meghasandesam', 'Joker', 'Marana Mrudangam', 'Maa Bhoomi', 'Kerintha', 'Tripura', '123', 'Jaffa', 'Jai Bolo Telangana', 'Nee Sneham', 'Maro Charitra', 'Aswamedham', 'Rachayitha', 'Terror', 'Avunu Part 2', 'Kashi from Village', 'Aadu Magaadra Bujji', 'Papikondalu', 'RDX Love', 'Rajdooth', 'Classmates', 'Oka Radha Iddaru Krishnulu', 'Sri Kanaka Mahalakshmi Recording Dance Troupe', 'Sri Krishnarjuna Yudham', 'Rambantu', 'Intlo Dayyam Nakemi Bhayam', 'Amrutham Chandamama Lo', 'Nirmala Convent', 'Gruha Pravesam', 'Beach Road Chetan', 'Undiporaadhey', 'Sardar Dharmanna', 'Biwi No. 2', 'Muddula Mavayya', 'Parugo Parugu', 'Top Hero', 'Allari Priyudu', 'Jebu Donga', 'Devatha', 'Thayillamal Nannilai', 'Nandini Nursing Home', 'Nenu', 'Muddula Mogudu', 'Dhairyam', 'Pravarakyudu', 'Choosi Choodangaane', 'Burra katha', 'Mayabazaar', 'Panduranga Mahatyam', 'Ankuram', 'Manthrigari Viyyankudu', '365 Days', 'Maa Alludu Verygood', 'Nampalli Nagu', 'Sambaram', 'Kurukshetramu', 'Chanakya Chandragupta', 'Parthal Pasi Theerum', 'Krishnashtami', 'Malaikottai', 'Thakita Thakita', 'Inkosari', 'Kalusukovalani', 'Raam', 'Neeku Nenu Naaku Nuvvu', 'Golmaal Govindam', 'Taskara', 'SMS - Siva Manasulo Sruthi', 'Nammanna', 'Neeku Naaku Dash Dash', 'Sneha Geetham', 'Baachi', 'Ammo Bomma', 'Swagatam', 'Evadithe Nakenti', 'Mosagalaku Mosagaadu', 'Kalyana Ramudu', 'Chinnabbayi', 'Ugranarasimham', 'Paramanandayya Shishyula Katha', 'Adhugo', 'Seethamma Andalu Ramayya Sitralu', 'Run', 'Raaj', 'Takkari', 'Victory', 'Screenplay of an Indian Love Story', 'Chal Mohana Ranga', 'Andha Oru Nimidam', 'Maavichiguru', 'Sri Krishnarjuna Vijayam', 'Gudachari No.1', 'Billa Ranga', 'Vicky Dada', 'Kondura (The Sage from the Sea)', 'Money Money More Money', 'President Gari Pellam', 'Evaraina Eppudaina', 'Maro Monagadu', 'Jakkanna', 'Muvva Gopaludu', 'Ninney Ishta Paddaanu', '9 Nelalu']\n"
     ]
    }
   ],
   "source": [
    "# creating a list with all the movie names given in the dataset\n",
    "\n",
    "list_of_all_titles = movies_data['Movie'].tolist()\n",
    "print(list_of_all_titles)"
   ]
  },
  {
   "cell_type": "code",
   "execution_count": 15,
   "id": "742a4ced",
   "metadata": {},
   "outputs": [
    {
     "name": "stdout",
     "output_type": "stream",
     "text": [
      "['Athadu', 'Katha', 'Partha']\n"
     ]
    }
   ],
   "source": [
    "# finding the close match for the movie name given by the user\n",
    "\n",
    "find_close_match = difflib.get_close_matches(movie_name, list_of_all_titles)\n",
    "print(find_close_match)"
   ]
  },
  {
   "cell_type": "code",
   "execution_count": 16,
   "id": "0413a7b0",
   "metadata": {},
   "outputs": [
    {
     "name": "stdout",
     "output_type": "stream",
     "text": [
      "Athadu\n"
     ]
    }
   ],
   "source": [
    "close_match = find_close_match[0]\n",
    "print(close_match)"
   ]
  },
  {
   "cell_type": "code",
   "execution_count": 17,
   "id": "7d4c6627",
   "metadata": {
    "scrolled": true
   },
   "outputs": [
    {
     "name": "stdout",
     "output_type": "stream",
     "text": [
      "18\n"
     ]
    }
   ],
   "source": [
    "# finding the index of the movie with title\n",
    "\n",
    "index_of_the_movie = movies_data[movies_data.Movie == close_match]['Index'].values[0]\n",
    "print(index_of_the_movie)"
   ]
  },
  {
   "cell_type": "code",
   "execution_count": 18,
   "id": "5a6574f3",
   "metadata": {},
   "outputs": [
    {
     "name": "stdout",
     "output_type": "stream",
     "text": [
      "[(0, 0.030715243665943512), (1, 0.04722260912980234), (2, 0.06067550754558859), (3, 0.026201507354383917), (4, 0.01799219416038693), (5, 0.05834183045690487), (6, 0.04730017975883599), (7, 0.057582645106984666), (8, 0.01808995054324071), (9, 0.011945916093690907), (10, 0.024173523588840937), (11, 0.02548528473327758), (12, 0.016908583588027784), (13, 0.021468383094676677), (14, 0.015392819234393663), (15, 0.013168164946491034), (16, 0.02872975270743525), (17, 0.014149406065783101), (18, 1.0000000000000002), (19, 0.04381801134185641), (20, 0.046218913518163464), (21, 0.013015097454610835), (22, 0.06887100147272603), (23, 0.018771269597271725), (24, 0.06129556583088189), (25, 0.023288020184477395), (26, 0.005944573789229279), (27, 0.044159465788469895), (28, 0.011557331169324244), (29, 0.018254466035485757), (30, 0.018621287462434882), (31, 0.049890946813050334), (32, 0.041326944944920556), (33, 0.04770444507496738), (34, 0.03553925547166232), (35, 0.04711340065396799), (36, 0.023828800065634443), (37, 0.05166341970037394), (38, 0.03233057791450215), (39, 0.024850027074560434), (40, 0.014748452032449576), (41, 0.010240387362551888), (42, 0.08644162996642062), (43, 0.03147491781319105), (44, 0.01879890857935161), (45, 0.02748127879355064), (46, 0.1362527245949464), (47, 0.03102678603504442), (48, 0.04378326334911016), (49, 0.04175869146107632), (50, 0.00830053059863405), (51, 0.07332203917232351), (52, 0.009826011978479203), (53, 0.10619644026885158), (54, 0.0), (55, 0.02141405136201599), (56, 0.00579704626946012), (57, 0.05326843711263278), (58, 0.02957775107510985), (59, 0.0467444805019196), (60, 0.024294005570396113), (61, 0.03389181680688973), (62, 0.0757835090199424), (63, 0.026755581846254192), (64, 0.017799570083833417), (65, 0.01740987408144726), (66, 0.06789832627023118), (67, 0.01523544784735485), (68, 0.029325492170754364), (69, 0.010758722552923896), (70, 0.03532699606960575), (71, 0.054083782708208905), (72, 0.031910149623422826), (73, 0.03762310827646013), (74, 0.010163054210450877), (75, 0.027194376291414996), (76, 0.05247383390188241), (77, 0.04863225993318769), (78, 0.01206540541875769), (79, 0.03612415551017998), (80, 0.04047243688539191), (81, 0.034576592613978906), (82, 0.028652740144722053), (83, 0.01929977553646604), (84, 0.019143859392965444), (85, 0.05725347361387058), (86, 0.0361405379381993), (87, 0.029631714854101952), (88, 0.047196864036507725), (89, 0.01367247244410189), (90, 0.02704084588687382), (91, 0.06693618484471861), (92, 0.008037958865418325), (93, 0.00692250738235844), (94, 0.02735553000394013), (95, 0.022874476024430018), (96, 0.018066105560907108), (97, 0.058401695795189175), (98, 0.029423543232504006), (99, 0.00567182414235887), (100, 0.07973168667366111), (101, 0.01839871325048688), (102, 0.06728537350747671), (103, 0.028819607575950642), (104, 0.0), (105, 0.05079022970831888), (106, 0.024700999915359907), (107, 0.09186377458879809), (108, 0.03651680315026297), (109, 0.049928890207581754), (110, 0.016328407044477418), (111, 0.012618479469488967), (112, 0.009706478390391151), (113, 0.02087524975400627), (114, 0.008769473930542932), (115, 0.02886085327243861), (116, 0.0692955272883561), (117, 0.059026746573018735), (118, 0.025158325057479135), (119, 0.05097574753408825), (120, 0.024403311153481787), (121, 0.005269697161930554), (122, 0.00454653533399733), (123, 0.033126861538683584), (124, 0.011189353204096924), (125, 0.00432405414628356), (126, 0.01683095932079361), (127, 0.06796050203484422), (128, 0.015242024623712162), (129, 0.026180166150642416), (130, 0.04520876129948386), (131, 0.07036450841964448), (132, 0.02337444028248995), (133, 0.009023907321551986), (134, 0.00793550392122148), (135, 0.017372089548129), (136, 0.015039231738268825), (137, 0.0400726209056675), (138, 0.013390461862603467), (139, 0.01965382757894746), (140, 0.015060638098074442), (141, 0.03806161425996085), (142, 0.008189439017043821), (143, 0.05778822498297228), (144, 0.04217219557923568), (145, 0.009897598124725916), (146, 0.022291858086921804), (147, 0.01616101431377155), (148, 0.024889133419163236), (149, 0.021653766967660665), (150, 0.02888370618425816), (151, 0.05608435593995181), (152, 0.010409200752412834), (153, 0.02210189433189442), (154, 0.011378464477246941), (155, 0.03798917681282513), (156, 0.025538630230984825), (157, 0.006955630144352799), (158, 0.04719577528068537), (159, 0.02223474051299574), (160, 0.06096183148741721), (161, 0.034412700686019766), (162, 0.016530715637858826), (163, 0.02189613521271555), (164, 0.06465303721055005), (165, 0.03049497774402539), (166, 0.02188173724427616), (167, 0.007167274388192949), (168, 0.017531489814627405), (169, 0.01124875837245589), (170, 0.022901536779209385), (171, 0.023072465790393817), (172, 0.018019940232860812), (173, 0.04945966399610954), (174, 0.01963675913726044), (175, 0.04792662886032534), (176, 0.009247173653129794), (177, 0.010731374556801437), (178, 0.05880617429400733), (179, 0.011268304626533238), (180, 0.054244764818189246), (181, 0.02253402854461129), (182, 0.041428177829721205), (183, 0.010698636428944244), (184, 0.017417931337224205), (185, 0.06857543125151354), (186, 0.05056126083105768), (187, 0.04540673859873228), (188, 0.008607260551856366), (189, 0.009204242662374214), (190, 0.03482157622554235), (191, 0.03439818563009799), (192, 0.03408414217907566), (193, 0.0403779129626788), (194, 0.029892260769707173), (195, 0.01126630583742124), (196, 0.034803260094225213), (197, 0.026135648523929664), (198, 0.04219102434971855), (199, 0.006462583135737679), (200, 0.014684874119881168), (201, 0.023657353010737757), (202, 0.05787248998635212), (203, 0.06784273206250083), (204, 0.05098700650563749), (205, 0.032301993364523884), (206, 0.006924498600879179), (207, 0.06238739716425755), (208, 0.005387635469362411), (209, 0.04687398006461989), (210, 0.026098392988941708), (211, 0.007203898214180196), (212, 0.025167129772101855), (213, 0.03211797727118823), (214, 0.01462127365974793), (215, 0.03052080663672501), (216, 0.00595796064068023), (217, 0.051417892248740334), (218, 0.01617476494688901), (219, 0.017476781340361486), (220, 0.018165360481216912), (221, 0.01929962347823135), (222, 0.04240565434865163), (223, 0.12796702391806325), (224, 0.021032584957384283), (225, 0.01685055471828877), (226, 0.019908452032068577), (227, 0.02246014971207241), (228, 0.0512900683056264), (229, 0.011244103019991526), (230, 0.07884638526630909), (231, 0.054695943398192434), (232, 0.02461120489488442), (233, 0.01634851089075053), (234, 0.0), (235, 0.041978500628463075), (236, 0.017849896815611145), (237, 0.06678888344734069), (238, 0.0591503228571254), (239, 0.02584158226512385), (240, 0.03217454196803485), (241, 0.026706848708099525), (242, 0.053660841200362505), (243, 0.03767086856810883), (244, 0.0681119334695276), (245, 0.009659841217951829), (246, 0.008091049810143532), (247, 0.006274017320914422), (248, 0.033378214642614756), (249, 0.11202578870207157), (250, 0.0), (251, 0.01584997490220002), (252, 0.029204653310726646), (253, 0.014598286162447356), (254, 0.01654622283478535), (255, 0.0056773609091069314), (256, 0.06221710005698951), (257, 0.007940969281577935), (258, 0.018892120803292313), (259, 0.007740860300708611), (260, 0.034630403986471936), (261, 0.00320549585212307), (262, 0.009003588445459855), (263, 0.014974086646156768), (264, 0.07857973627583634), (265, 0.027397087273956303), (266, 0.028454336057113193), (267, 0.03394286619025986), (268, 0.06478116460097037), (269, 0.02029376795435299), (270, 0.0448954259127224), (271, 0.09200364506417971), (272, 0.06640900377740461), (273, 0.025069907527929723), (274, 0.036497656051447724), (275, 0.024428693336743346), (276, 0.016412894754991976), (277, 0.029025387275971905), (278, 0.01995778927798227), (279, 0.0161243661616254), (280, 0.03428433374740133), (281, 0.0914520288281898), (282, 0.008046429532530878), (283, 0.04856129530665629), (284, 0.0056099245445416996), (285, 0.00812449316961322), (286, 0.005563991205794071), (287, 0.022124521260395092), (288, 0.025331697174267198), (289, 0.037136457012533194), (290, 0.042726993775225264), (291, 0.009844063352016135), (292, 0.03841290740185072), (293, 0.017121908083725094), (294, 0.07959427361419871), (295, 0.015195753977655522), (296, 0.04622700479908666), (297, 0.05336556926702104), (298, 0.03665593816488249), (299, 0.03412597699518418), (300, 0.012973679082958527), (301, 0.027298467078140706), (302, 0.0066771435503830134), (303, 0.008284349241674585), (304, 0.0037232371434842357), (305, 0.01898444863857632), (306, 0.0861059697698217), (307, 0.025987252786691305), (308, 0.03300788478045034), (309, 0.011579746495037867), (310, 0.01152063124632725), (311, 0.0048353178152948685), (312, 0.022751065034576672), (313, 0.2244685924229764), (314, 0.017924505254338235), (315, 0.07783815750494344), (316, 0.004882090270366261), (317, 0.02626419712382292), (318, 0.023770257875609806), (319, 0.07298938983125215), (320, 0.018702866156926297), (321, 0.020900115961690315), (322, 0.15396146444451067), (323, 0.028381420866776665), (324, 0.038418323724990745), (325, 0.031972648925654254), (326, 0.06336856030249544), (327, 0.006498087567661849), (328, 0.01681816237483212), (329, 0.07511759087138693), (330, 0.04585801960745564), (331, 0.0317277701039165), (332, 0.025579649430941074), (333, 0.06282359411393339), (334, 0.0), (335, 0.015817180935937553), (336, 0.07454221653741037), (337, 0.027388878904822576), (338, 0.05905175864395188), (339, 0.05200058002278249), (340, 0.20058652650161987), (341, 0.06141324419603827), (342, 0.013029258884898403), (343, 0.00698583192911038), (344, 0.011561062203261217), (345, 0.0460859939539223), (346, 0.02216169341410909), (347, 0.006621361663072092), (348, 0.0), (349, 0.05079169258457983), (350, 0.007397946231138337), (351, 0.0265178831877869), (352, 0.02751047186468345), (353, 0.02470675100366974), (354, 0.03773271583676045), (355, 0.04530936065921577), (356, 0.055879423575501096), (357, 0.05650961296614543), (358, 0.014969434361847372), (359, 0.017593911565467638), (360, 0.05650215241742835), (361, 0.0774806350030509), (362, 0.13542781448685046), (363, 0.010136062590768397), (364, 0.039285399887440745), (365, 0.04767684298688935), (366, 0.004942784405779359), (367, 0.018235673886886447), (368, 0.025252871954295084), (369, 0.07632399056894953), (370, 0.025584629418071023), (371, 0.005092310673136736), (372, 0.07749448775083297), (373, 0.025553464202654568), (374, 0.029478471215452225), (375, 0.024078642704337926), (376, 0.03403499968706471), (377, 0.051420449553579196), (378, 0.02202507555634619), (379, 0.03736936557345523), (380, 0.010945432421627772), (381, 0.026915144653541515), (382, 0.006988830439186712), (383, 0.014685789728381967), (384, 0.025193549192138866), (385, 0.020683469963318542), (386, 0.01818894363193178), (387, 0.06936013394554481), (388, 0.039107184214349736), (389, 0.05933203607774126), (390, 0.042824304895501666), (391, 0.04204294191433533), (392, 0.039875237115932056), (393, 0.042018703059993), (394, 0.01822397878629439), (395, 0.03775641388453298), (396, 0.0594359197362581), (397, 0.0251086328886267), (398, 0.027825788715097718), (399, 0.06995537139578012), (400, 0.03523980527161571), (401, 0.009522740159524149), (402, 0.030602626827604333), (403, 0.02140671676425859), (404, 0.04007939447621486), (405, 0.0035208992630339554), (406, 0.06623941468646265), (407, 0.024556522990109967), (408, 0.05700197807480214), (409, 0.01595998849692896), (410, 0.043587135257095), (411, 0.018311000137538506), (412, 0.009034283066143216), (413, 0.0038833901281767605), (414, 0.027354893518853653), (415, 0.047980194427893294), (416, 0.052011750594199116), (417, 0.04135168766958393), (418, 0.041213889331530904), (419, 0.00802759405019102), (420, 0.02816778152780805), (421, 0.03139174992277027), (422, 0.02143927219468168), (423, 0.04214732905664058), (424, 0.013397078934896771), (425, 0.013499824711975679), (426, 0.04356923113116728), (427, 0.049658325268634854), (428, 0.012447276569980632), (429, 0.04000109943817487), (430, 0.0), (431, 0.031001363642133288), (432, 0.00464803384814256), (433, 0.03424136331806735), (434, 0.013172848014940144), (435, 0.06047057778944031), (436, 0.017921344259843396), (437, 0.03822109236251788), (438, 0.013289546297115457), (439, 0.011791484081573194), (440, 0.0828383277191392), (441, 0.0), (442, 0.07853433642378668), (443, 0.0162748109664239), (444, 0.011482852711458123), (445, 0.04507337272489984), (446, 0.02363470073340229), (447, 0.0754596042444819), (448, 0.05545015862646854), (449, 0.016128486813546766), (450, 0.01536793102017056), (451, 0.05299009473285523), (452, 0.029424915543403374), (453, 0.011246541998027014), (454, 0.047922577313431906), (455, 0.03256026975904473), (456, 0.028230276058775365), (457, 0.029307279306073856), (458, 0.03639268715552229), (459, 0.05337710869750731), (460, 0.005864495003174626), (461, 0.009254028335808216), (462, 0.009517718820129641), (463, 0.024287775305748313), (464, 0.004865274650801941), (465, 0.0), (466, 0.037512936226465315), (467, 0.04153558567505301), (468, 0.01598863976209793), (469, 0.023690832036675612), (470, 0.0188373937168353), (471, 0.03174444967870786), (472, 0.0), (473, 0.01259204118878629), (474, 0.05062530514032198), (475, 0.04149832095743771), (476, 0.007146423219274781), (477, 0.07421421400178276), (478, 0.020437023527404483), (479, 0.035787326369316044), (480, 0.022975293289033975), (481, 0.02649528341785105), (482, 0.03470615817175265), (483, 0.021552184459029677), (484, 0.018480904028621223), (485, 0.0265102512901794), (486, 0.007316172463754025), (487, 0.018845697385320975), (488, 0.010616101931273568), (489, 0.05024439773719452), (490, 0.007702628296102766), (491, 0.039718961724573086), (492, 0.04066986723661346), (493, 0.06607857129263156), (494, 0.026819998938339036), (495, 0.007865955726942417), (496, 0.010275891697249252), (497, 0.008867524658448984), (498, 0.014393925448984095), (499, 0.01649441755258301), (500, 0.066070423845235), (501, 0.024684935075463602), (502, 0.07088451838266144), (503, 0.025511203468196), (504, 0.06834554212288964), (505, 0.035481523899486674), (506, 0.06452376844624892), (507, 0.05298394304642713), (508, 0.0), (509, 0.025136024571539163), (510, 0.008477101581769175), (511, 0.015072092891801937), (512, 0.007950957362765408), (513, 0.044104800650923356), (514, 0.1046231122719496), (515, 0.048008162774476844), (516, 0.009842463746944686), (517, 0.010535445046528156), (518, 0.025752433300285232), (519, 0.02030315351399056), (520, 0.0847683757424423), (521, 0.020490825601448912), (522, 0.017912908024463974), (523, 0.0), (524, 0.035404627977948105), (525, 0.03206677799728147), (526, 0.058731762294903), (527, 0.03713648739228367), (528, 0.03758978774934574), (529, 0.04426133425372843), (530, 0.006445727649806114), (531, 0.01106470339490565), (532, 0.049314451691826446), (533, 0.03580001969675306), (534, 0.04829622666709404), (535, 0.03130557986987464), (536, 0.03468815485712002), (537, 0.06341719116002274), (538, 0.02624328489123528), (539, 0.05865969758262424), (540, 0.019162727944284544), (541, 0.013300856053886768), (542, 0.004264823466751765), (543, 0.012148656955072007), (544, 0.058768195566233646), (545, 0.02364543525887808), (546, 0.033083504286026647), (547, 0.025372547260826914), (548, 0.014427222706696288), (549, 0.07057728562803181), (550, 0.03737276410462805), (551, 0.00813758958782154), (552, 0.02931788882009596), (553, 0.025043909543913306), (554, 0.00564393200769525), (555, 0.01564448742597989), (556, 0.0257802111776169), (557, 0.047056247900940984), (558, 0.01830520812275829), (559, 0.009725956901196368), (560, 0.1168614803549699), (561, 0.04772279495261086), (562, 0.01536606795386197), (563, 0.0), (564, 0.04644674825247668), (565, 0.0), (566, 0.046368380653160825), (567, 0.03182523773677899), (568, 0.013692300756995165), (569, 0.014457501376595523), (570, 0.02757229435297862), (571, 0.028706869585002754), (572, 0.03541605435299684), (573, 0.06895298511661739), (574, 0.023676613687423666), (575, 0.03039265412518472), (576, 0.11068718768600347), (577, 0.034355247828495805), (578, 0.02883649645309253), (579, 0.014877369921124123), (580, 0.04947264488619965), (581, 0.037452819095997465), (582, 0.037771348547049804), (583, 0.05354451876161712), (584, 0.03669184009569397), (585, 0.016067124002246212), (586, 0.03080792124126289), (587, 0.009899312115626531), (588, 0.008772440867911357), (589, 0.014110168215029958), (590, 0.011334512869692365), (591, 0.04663863311676479), (592, 0.009812702491574935), (593, 0.08134038396173651), (594, 0.06776555737404945), (595, 0.044685348635356135), (596, 0.0), (597, 0.02487035985799363), (598, 0.09188833946137397), (599, 0.020641962156581685), (600, 0.06991329309027804), (601, 0.004420744543133286), (602, 0.011543679139266877), (603, 0.03495452166654736), (604, 0.0), (605, 0.0), (606, 0.041055330363787675), (607, 0.030447064282248065), (608, 0.04164732515633351), (609, 0.02941998768280114), (610, 0.09750025151251439), (611, 0.011671103924645786), (612, 0.010175047941830188), (613, 0.009042619625303979), (614, 0.015474085862575506), (615, 0.01763674296816955), (616, 0.011464763926666401), (617, 0.0), (618, 0.02440906108495281), (619, 0.020708298601142747), (620, 0.05474951675489309), (621, 0.06279276453923306), (622, 0.017752225625490566), (623, 0.017670740625536373), (624, 0.005293326851001142), (625, 0.02311185647104631), (626, 0.03539542591333865), (627, 0.01860576306246744), (628, 0.09498192286328308), (629, 0.016802939065526396), (630, 0.02334728013035648), (631, 0.01782660692036466), (632, 0.06261929145918721), (633, 0.038916859188588934), (634, 0.05150159842577599), (635, 0.022120276964611493), (636, 0.03760407024825129), (637, 0.03944110193936954), (638, 0.01786880093728206), (639, 0.024990474294072095), (640, 0.030559742351651566), (641, 0.021786530412149223), (642, 0.01870330930335646), (643, 0.0058178346146521825), (644, 0.05178397180569342), (645, 0.018279692924315746), (646, 0.033141465076550664), (647, 0.004325019733197776), (648, 0.043501757103644366), (649, 0.025186455900777248), (650, 0.011901784321285814), (651, 0.006073404732802523), (652, 0.026261780479305517), (653, 0.021529324823083403), (654, 0.04703350100847654), (655, 0.01374620633411269), (656, 0.02091713995425123), (657, 0.07623052476845532), (658, 0.07783359273748597), (659, 0.021468767222641537), (660, 0.028549438099253196), (661, 0.01864809256511563), (662, 0.05687698356803149), (663, 0.031219301784863627), (664, 0.04945025491740463), (665, 0.05846156779508123), (666, 0.03269952858939454), (667, 0.027829042097943055), (668, 0.01906135440094378), (669, 0.0), (670, 0.016313472893322384), (671, 0.020014013955044787), (672, 0.03366614641981062), (673, 0.04203045278813511), (674, 0.019111554299500965), (675, 0.01786880093728206), (676, 0.03243987594790922), (677, 0.03184100873434184), (678, 0.0), (679, 0.023668208776527092), (680, 0.02025297347409881), (681, 0.032477444921071255), (682, 0.0), (683, 0.01656580570829894), (684, 0.0), (685, 0.01786880093728206), (686, 0.08759497671449902), (687, 0.028504953095168775), (688, 0.043334653090682365), (689, 0.04612609664827235), (690, 0.005180262003334488), (691, 0.011647807461334356), (692, 0.10604251506282461), (693, 0.0), (694, 0.0061435838624346), (695, 0.013757423322555392), (696, 0.0), (697, 0.0431419117971105), (698, 0.033483124297690424), (699, 0.02744518715824186), (700, 0.022252953068348232), (701, 0.03703144547693415), (702, 0.02061895546055813), (703, 0.023478372677164204), (704, 0.01827991121628654), (705, 0.031145467103888345), (706, 0.021755199349769383), (707, 0.0692358891448918), (708, 0.0), (709, 0.007595200469234169), (710, 0.018279692924315746), (711, 0.11960124496764005), (712, 0.04603788252856649), (713, 0.04275645542826823), (714, 0.03026907432137875), (715, 0.05698804755803162), (716, 0.018992990632888188), (717, 0.0051675140391061235), (718, 0.012463754818964567), (719, 0.11052224370619426), (720, 0.01792735403782588), (721, 0.030739877652450155), (722, 0.01726763717082435), (723, 0.05476769877858044), (724, 0.011119714696154005), (725, 0.006864117980575206), (726, 0.057784411700952), (727, 0.023176640478692827), (728, 0.07681903354711982), (729, 0.03149581365936027), (730, 0.02197982042329709), (731, 0.004506317644602406), (732, 0.040774804387071636), (733, 0.04046669638709654), (734, 0.03672555031081461), (735, 0.0), (736, 0.0), (737, 0.010245047891009114), (738, 0.013443052498503813), (739, 0.0), (740, 0.011451653158281047), (741, 0.027575687342744445), (742, 0.0), (743, 0.03313318159637623), (744, 0.023242515782499897), (745, 0.0), (746, 0.01898263649044024), (747, 0.012815512386055201), (748, 0.024538068799396302), (749, 0.017101515851215873), (750, 0.010117241803237973), (751, 0.005889112468250274), (752, 0.05831722134075268), (753, 0.021457214789787397), (754, 0.04812939474960643), (755, 0.01127816775253755), (756, 0.044591499212671304), (757, 0.008209067984941875), (758, 0.018279692924315746), (759, 0.04520511355359415), (760, 0.0), (761, 0.018097172483970497), (762, 0.03507820717668504), (763, 0.013387622690007003), (764, 0.023220969532653256), (765, 0.0319699452132259), (766, 0.023613081634651874), (767, 0.020916443401239486), (768, 0.04543307462159569), (769, 0.014952230051351894), (770, 0.012859373605878693), (771, 0.0), (772, 0.022286474567397668), (773, 0.033826614544007746), (774, 0.045262044368183374), (775, 0.05534870308537809), (776, 0.0), (777, 0.017221397605084513), (778, 0.005471488569948311), (779, 0.013775260262580944), (780, 0.041958706461138806), (781, 0.04031838495949663), (782, 0.0041257276273707726), (783, 0.02017703578202466), (784, 0.09406624264616327), (785, 0.018723002593460505), (786, 0.03316855335503554), (787, 0.045777349775015436), (788, 0.02744384926357505), (789, 0.1504691029149579), (790, 0.04120243615935912), (791, 0.01331082985826906), (792, 0.0), (793, 0.00925778545455187), (794, 0.03711833982780153), (795, 0.030585948656754423), (796, 0.02067468840369286), (797, 0.0), (798, 0.016655092467613937), (799, 0.058320854345341386), (800, 0.04573018567552697), (801, 0.10287183852268271), (802, 0.018896895893205496), (803, 0.025638883788508), (804, 0.04349621973928002), (805, 0.08742667205828845), (806, 0.0), (807, 0.03834063787218575), (808, 0.03126738077884245), (809, 0.030765021454137013), (810, 0.0), (811, 0.0), (812, 0.01157498760326792), (813, 0.0), (814, 0.03411598684832842), (815, 0.01343357942615053), (816, 0.011789649384392854), (817, 0.01567305833006472), (818, 0.08090439342761915), (819, 0.0303420749879934), (820, 0.06000299818783986), (821, 0.049413612887575835), (822, 0.09301109276345361), (823, 0.0), (824, 0.05116751595426028), (825, 0.013062131969190451), (826, 0.02225798824443061), (827, 0.029235022549124037), (828, 0.09658622745823751), (829, 0.019284830005135315), (830, 0.018651607702970134), (831, 0.04284252095324119), (832, 0.018977143398790395), (833, 0.0), (834, 0.03344082335146727), (835, 0.025356091934885916), (836, 0.04693173337291942), (837, 0.06093833099225946), (838, 0.048329942321425214), (839, 0.0), (840, 0.019790488237208033), (841, 0.03441683018009867), (842, 0.06599021714729225), (843, 0.012950446709663641), (844, 0.028460381069810747), (845, 0.032820034782072904), (846, 0.02304950231080926), (847, 0.05388900697262847), (848, 0.016720767061165185), (849, 0.036474044594875146), (850, 0.05726491885655562), (851, 0.030511425614344355), (852, 0.020260064917126713), (853, 0.011728008644034761), (854, 0.017143573586644555), (855, 0.013807454716106745), (856, 0.030624357612734535), (857, 0.02127703123216691), (858, 0.03932978662242407), (859, 0.02559302718403723), (860, 0.038934434253785954), (861, 0.020676177514543613), (862, 0.0), (863, 0.026751720678366227), (864, 0.06343885579663439), (865, 0.009735087513414741), (866, 0.03485884278684195), (867, 0.04851011196979471), (868, 0.01710668876384615), (869, 0.0), (870, 0.07316913908126481), (871, 0.008514151493316574), (872, 0.04143168065630495), (873, 0.09295827374326691), (874, 0.05397000870074696), (875, 0.0), (876, 0.0), (877, 0.017581668069973806), (878, 0.011905409846197073), (879, 0.0520490633179621), (880, 0.02473585367008725), (881, 0.03509192153001696), (882, 0.055762283033697305), (883, 0.011182690886887944), (884, 0.016954934063770428), (885, 0.0), (886, 0.03950893652993516), (887, 0.003958360918875529), (888, 0.019152884065437203), (889, 0.0), (890, 0.0038879189970370378), (891, 0.02922489643311542), (892, 0.017403652023035197), (893, 0.027342265793781136), (894, 0.07860173707842578), (895, 0.0), (896, 0.010966742676010596), (897, 0.015326267459559433), (898, 0.04086633772233706), (899, 0.0), (900, 0.012391604920992425), (901, 0.009849929050735257), (902, 0.03676342952774895), (903, 0.04023813525757391), (904, 0.017125647200488706), (905, 0.020230577975939076), (906, 0.011374504427438023), (907, 0.024469782080727864), (908, 0.015065830191217811), (909, 0.0668124165613615), (910, 0.03722397895637889), (911, 0.054295128222058425), (912, 0.047947172555879256), (913, 0.030852126489877535), (914, 0.03873372221432286), (915, 0.008765276453175763), (916, 0.007952330616663141), (917, 0.0), (918, 0.031204789882888773), (919, 0.0), (920, 0.023127775322692425), (921, 0.0), (922, 0.018778356042791704), (923, 0.062339034782640516), (924, 0.006184887679392697), (925, 0.01832312258200043), (926, 0.027731503158797684), (927, 0.04878851250651396), (928, 0.07792242448859166), (929, 0.014633499062311605), (930, 0.014937703728831343), (931, 0.0071237294769634), (932, 0.03381237295039951), (933, 0.01813485415104844), (934, 0.0), (935, 0.026033757148306913), (936, 0.005256143930834608), (937, 0.01180925175119383), (938, 0.038476477321773984), (939, 0.02761234628721964), (940, 0.0057250286974846925), (941, 0.014898120171833628), (942, 0.02949270709986349), (943, 0.018969796519680098), (944, 0.007805278124057596), (945, 0.0), (946, 0.02094543866958379), (947, 0.0), (948, 0.0), (949, 0.015289372423693479), (950, 0.022349485487361497), (951, 0.02979271645837643), (952, 0.010462086132740491), (953, 0.061641537065165605), (954, 0.07753315210956642), (955, 0.020287265778969214), (956, 0.011556909694377025), (957, 0.019166032025037846), (958, 0.01996075519516148), (959, 0.04158584710516536), (960, 0.0230366866546656), (961, 0.023501438071444322), (962, 0.021534887030104487), (963, 0.01675680440599985), (964, 0.0), (965, 0.004636187005968155), (966, 0.01597012032222314), (967, 0.057024437402505526), (968, 0.05889678789179744), (969, 0.03311327539796121), (970, 0.05465418549462649), (971, 0.009903878608883077), (972, 0.0), (973, 0.044058941775767246), (974, 0.030916597761069434), (975, 0.0), (976, 0.029326522650508138), (977, 0.0), (978, 0.07014216777925418), (979, 0.01384398518443163), (980, 0.07530972622086572), (981, 0.01647567174028935), (982, 0.006968409152413844), (983, 0.016111386811178702), (984, 0.04610950284829733), (985, 0.009349171885016029), (986, 0.01403775797159578), (987, 0.057507778541461614), (988, 0.0), (989, 0.0428787093110899), (990, 0.00544821699916968), (991, 0.0), (992, 0.010274621595243935), (993, 0.021514807009616176), (994, 0.04516429907479843), (995, 0.0), (996, 0.0), (997, 0.02773743210245375), (998, 0.06088283206491144), (999, 0.03721761531699215), (1000, 0.05733364198295091), (1001, 0.0836154888469525), (1002, 0.008012114931470618), (1003, 0.0), (1004, 0.058586521865371534), (1005, 0.022298532691787505), (1006, 0.025884608737181312), (1007, 0.0454098897225073), (1008, 0.01925697893792956), (1009, 0.009441422198733713), (1010, 0.045932881979071284), (1011, 0.016386237241157512), (1012, 0.043901079206160085), (1013, 0.0), (1014, 0.0211424253782739), (1015, 0.025576959490776843), (1016, 0.020443489822461584), (1017, 0.02509447478473384), (1018, 0.08127388638022738), (1019, 0.0), (1020, 0.01927767914462538), (1021, 0.02581765850314037), (1022, 0.0), (1023, 0.007643545441541267), (1024, 0.021511730981885187), (1025, 0.042041995185946354), (1026, 0.024520390611903933), (1027, 0.006677272425168769), (1028, 0.0), (1029, 0.0), (1030, 0.03934063702548222), (1031, 0.0), (1032, 0.02605198682451644), (1033, 0.01443614569554943), (1034, 0.0), (1035, 0.02014161725918717), (1036, 0.08218144629265826), (1037, 0.00835436818290815), (1038, 0.00718948311894116), (1039, 0.04072933296143704), (1040, 0.0), (1041, 0.016755846543193217), (1042, 0.0), (1043, 0.0), (1044, 0.021740170097764078), (1045, 0.005395324456801882), (1046, 0.042107801409914394), (1047, 0.024634492640986782), (1048, 0.005164652004197785), (1049, 0.01673353622635588), (1050, 0.018863998113923763), (1051, 0.06943625576009944), (1052, 0.015610070832824414), (1053, 0.07569349312145283), (1054, 0.06023567775101507), (1055, 0.01343665683494192), (1056, 0.06829990744993467), (1057, 0.0), (1058, 0.0), (1059, 0.01969577711548923), (1060, 0.0), (1061, 0.008381908683210641), (1062, 0.0), (1063, 0.03766158524006264), (1064, 0.017971966548283157), (1065, 0.0), (1066, 0.02249275369642292), (1067, 0.08688640716334141), (1068, 0.005880199893275843), (1069, 0.015100569024167329), (1070, 0.01202669080329092), (1071, 0.029717100880335086), (1072, 0.020989058085736905), (1073, 0.029211091112002978), (1074, 0.0), (1075, 0.01776187340388025), (1076, 0.0), (1077, 0.007810444252825431), (1078, 0.046576784819697716), (1079, 0.013351657126599359), (1080, 0.014338091425121569), (1081, 0.022858551047872874), (1082, 0.019713927947446305), (1083, 0.03584004132307048), (1084, 0.004970335349497411), (1085, 0.03603914645270109), (1086, 0.01823111002982386), (1087, 0.015408228053375862), (1088, 0.051804102342766466), (1089, 0.02040769608734779), (1090, 0.022821744388842248), (1091, 0.0), (1092, 0.030137245771961998), (1093, 0.09847583732343887), (1094, 0.10368317656235611), (1095, 0.026609852430726277), (1096, 0.0), (1097, 0.022973584475198934), (1098, 0.013073908037295271), (1099, 0.0), (1100, 0.019292475768192343), (1101, 0.02931503625188265), (1102, 0.025791388160155262), (1103, 0.02768898665443144), (1104, 0.044167498578986185), (1105, 0.008965670274941596), (1106, 0.0), (1107, 0.0), (1108, 0.0), (1109, 0.031192457427179552), (1110, 0.08458042255520622), (1111, 0.0), (1112, 0.0), (1113, 0.049780658176698696), (1114, 0.05053029199110474), (1115, 0.04688167732624415), (1116, 0.0), (1117, 0.0), (1118, 0.05518184883346225), (1119, 0.04831055531356958), (1120, 0.0037182512047251176), (1121, 0.0), (1122, 0.018778356042791704), (1123, 0.0), (1124, 0.009709127147375301), (1125, 0.02055165237399639), (1126, 0.013188603186851501), (1127, 0.012658149731026294), (1128, 0.01619941166955883), (1129, 0.04827147625982392), (1130, 0.013045315174279964), (1131, 0.02574515066860514), (1132, 0.0), (1133, 0.0), (1134, 0.010728004917144018), (1135, 0.0), (1136, 0.026988672601711772), (1137, 0.03207832216987512), (1138, 0.024256182392863694), (1139, 0.0236589001891053), (1140, 0.03655190713332537), (1141, 0.0), (1142, 0.007197851319240567), (1143, 0.08096132814481544), (1144, 0.008689897332300951), (1145, 0.03689717159680264), (1146, 0.0), (1147, 0.051573490427187285), (1148, 0.0), (1149, 0.0062142073193481515), (1150, 0.058964164892911605), (1151, 0.06893451349834942), (1152, 0.03706410224380172), (1153, 0.038041533894900684), (1154, 0.03866798306806036), (1155, 0.0), (1156, 0.0), (1157, 0.0), (1158, 0.025660797040880395), (1159, 0.036021173512217806), (1160, 0.015711957623605364), (1161, 0.035087718431986284), (1162, 0.018899263379347078), (1163, 0.004282821695159595), (1164, 0.09334141580761444), (1165, 0.018367111476948195), (1166, 0.017955247381142642), (1167, 0.0), (1168, 0.026113092723474843), (1169, 0.016314301501576974), (1170, 0.02045258569914752), (1171, 0.0), (1172, 0.0706195698653478), (1173, 0.008545059261832195), (1174, 0.007648166349095631), (1175, 0.024733914622242576), (1176, 0.0), (1177, 0.0), (1178, 0.022069932630819487), (1179, 0.03985576554753805), (1180, 0.007199323328597492), (1181, 0.011302350872636247), (1182, 0.022069932630819487), (1183, 0.005732047259884196), (1184, 0.022069932630819487), (1185, 0.0), (1186, 0.022858551047872874), (1187, 0.00845783452139388), (1188, 0.08642995797579436), (1189, 0.01916671666313777), (1190, 0.0040693295780917455), (1191, 0.05189087740160008), (1192, 0.008363853096589734), (1193, 0.031101352315071617), (1194, 0.01483791137471327), (1195, 0.015627727469270495), (1196, 0.07768935349528408), (1197, 0.00777853455821885), (1198, 0.02260331458008175), (1199, 0.009340326195411775), (1200, 0.013061772728109471), (1201, 0.023705182461765825), (1202, 0.01882228662798285), (1203, 0.006042560679478477), (1204, 0.04692382825864418), (1205, 0.01981208398248068), (1206, 0.0), (1207, 0.022323878763654215), (1208, 0.02368452325527738), (1209, 0.09321225798647245), (1210, 0.03393446752498783), (1211, 0.011056168915848718), (1212, 0.0), (1213, 0.0), (1214, 0.010051722652140728), (1215, 0.010360392116356783), (1216, 0.005966379131851276), (1217, 0.0), (1218, 0.0), (1219, 0.03208151972592716), (1220, 0.0), (1221, 0.08178743000488334), (1222, 0.04461413816056457), (1223, 0.0061632539995650345), (1224, 0.019873386166895827), (1225, 0.012047891237040864), (1226, 0.11118884335185757), (1227, 0.016985434812595925), (1228, 0.005473124618989511), (1229, 0.0), (1230, 0.07325817781478426), (1231, 0.020788192570461154), (1232, 0.008504067937189934), (1233, 0.036425657129448105), (1234, 0.022932126285722276), (1235, 0.02489573124233134), (1236, 0.012294456123908105), (1237, 0.005932750264116961), (1238, 0.0), (1239, 0.0), (1240, 0.018369800346059128), (1241, 0.018132644786482882), (1242, 0.0), (1243, 0.0792936191637582), (1244, 0.005623127327260636), (1245, 0.045645084657571985), (1246, 0.004220206202868333), (1247, 0.022341261653773127), (1248, 0.01842244013947243), (1249, 0.0), (1250, 0.021740170097764078), (1251, 0.02192527830322906), (1252, 0.040643494942868036), (1253, 0.06635735089118323), (1254, 0.019519378460599538), (1255, 0.020641962156581685), (1256, 0.0), (1257, 0.02835005222366029), (1258, 0.025423336661496765), (1259, 0.019835025036423697), (1260, 0.0), (1261, 0.05875343914574743), (1262, 0.01986335839862109), (1263, 0.02301172022058245), (1264, 0.0051628225046895055), (1265, 0.0), (1266, 0.022932126285722276), (1267, 0.03777113236603345), (1268, 0.052070765705231524), (1269, 0.025881129925321537), (1270, 0.005473891179146551), (1271, 0.00820570231704416), (1272, 0.006906324954131222), (1273, 0.01941088174235556), (1274, 0.013897688569182054), (1275, 0.018055579446605796), (1276, 0.0), (1277, 0.017245346309340485), (1278, 0.015156597709979644), (1279, 0.06275620258709191), (1280, 0.023907139697377157), (1281, 0.06488661423527749), (1282, 0.0070660687494687405), (1283, 0.0), (1284, 0.0), (1285, 0.04673106748520525), (1286, 0.0), (1287, 0.017164110410189788), (1288, 0.0), (1289, 0.022761921747306305), (1290, 0.0), (1291, 0.0), (1292, 0.0), (1293, 0.028206651408393436), (1294, 0.021201078600814115), (1295, 0.0), (1296, 0.0062094158823821875), (1297, 0.0), (1298, 0.0), (1299, 0.023519077197898555), (1300, 0.0235504315477797), (1301, 0.0), (1302, 0.009891125352723695), (1303, 0.006066912117792477), (1304, 0.05405091174975345), (1305, 0.0), (1306, 0.0), (1307, 0.018096799510541942), (1308, 0.025448570345179798), (1309, 0.03523218118994655), (1310, 0.05019825161315935), (1311, 0.048589503052408375), (1312, 0.07851675239157535), (1313, 0.027696836776252252), (1314, 0.0), (1315, 0.005621915769838615), (1316, 0.04643756477081165), (1317, 0.022197835489495752), (1318, 0.0), (1319, 0.0), (1320, 0.021524189650237682), (1321, 0.0), (1322, 0.0), (1323, 0.022638719887799415), (1324, 0.0), (1325, 0.0), (1326, 0.0054803201518891466), (1327, 0.020386691578461263), (1328, 0.0), (1329, 0.027521078432214012), (1330, 0.02354354538077242), (1331, 0.0), (1332, 0.0), (1333, 0.0), (1334, 0.0058294001873936685), (1335, 0.0), (1336, 0.020494179688908955), (1337, 0.011188691358044029), (1338, 0.008802890500135758), (1339, 0.0), (1340, 0.0), (1341, 0.008150391067417702), (1342, 0.07244304239546766), (1343, 0.009884100791768692), (1344, 0.01282704711112469), (1345, 0.03968777390603768), (1346, 0.01419807820806003), (1347, 0.021383561525425393), (1348, 0.0), (1349, 0.0), (1350, 0.0), (1351, 0.0), (1352, 0.010579227534990748), (1353, 0.024791964773503965), (1354, 0.06560361080166524), (1355, 0.020929273098467586), (1356, 0.06441355833998567), (1357, 0.0), (1358, 0.0), (1359, 0.0), (1360, 0.0), (1361, 0.0), (1362, 0.0), (1363, 0.04363016335341423), (1364, 0.019298035086686136), (1365, 0.023428596694755194), (1366, 0.0654498534714005), (1367, 0.0), (1368, 0.02437855575435304), (1369, 0.04585913193323673), (1370, 0.0), (1371, 0.03483561377490327), (1372, 0.0228806552853274), (1373, 0.0), (1374, 0.02182418323959158), (1375, 0.0), (1376, 0.010437510728191126), (1377, 0.01835409705772083), (1378, 0.04677767296050796), (1379, 0.007316085925953583), (1380, 0.024357734800788598), (1381, 0.0), (1382, 0.020835121914971857), (1383, 0.041126982606254844), (1384, 0.019555554863502172), (1385, 0.11004268629161605), (1386, 0.01964636225886164), (1387, 0.019383820806951123), (1388, 0.08591585016851855), (1389, 0.005568706552685899), (1390, 0.050898096680566274), (1391, 0.02324545545754027), (1392, 0.007399336624600792), (1393, 0.0), (1394, 0.0), (1395, 0.0), (1396, 0.026181723457666), (1397, 0.023856830862432198), (1398, 0.03436642053239805), (1399, 0.004016349017636368)]\n"
     ]
    }
   ],
   "source": [
    "# getting a list of similar movies\n",
    "\n",
    "similarity_score = list(enumerate(similarity[index_of_the_movie]))\n",
    "print(similarity_score)"
   ]
  },
  {
   "cell_type": "code",
   "execution_count": 19,
   "id": "34a35ca6",
   "metadata": {},
   "outputs": [
    {
     "data": {
      "text/plain": [
       "1400"
      ]
     },
     "execution_count": 19,
     "metadata": {},
     "output_type": "execute_result"
    }
   ],
   "source": [
    "len(similarity_score)"
   ]
  },
  {
   "cell_type": "code",
   "execution_count": 20,
   "id": "8644f0a7",
   "metadata": {},
   "outputs": [
    {
     "name": "stdout",
     "output_type": "stream",
     "text": [
      "[(18, 1.0000000000000002), (313, 0.2244685924229764), (340, 0.20058652650161987), (322, 0.15396146444451067), (789, 0.1504691029149579), (46, 0.1362527245949464), (362, 0.13542781448685046), (223, 0.12796702391806325), (711, 0.11960124496764005), (560, 0.1168614803549699), (249, 0.11202578870207157), (1226, 0.11118884335185757), (576, 0.11068718768600347), (719, 0.11052224370619426), (1385, 0.11004268629161605), (53, 0.10619644026885158), (692, 0.10604251506282461), (514, 0.1046231122719496), (1094, 0.10368317656235611), (801, 0.10287183852268271), (1093, 0.09847583732343887), (610, 0.09750025151251439), (828, 0.09658622745823751), (628, 0.09498192286328308), (784, 0.09406624264616327), (1164, 0.09334141580761444), (1209, 0.09321225798647245), (822, 0.09301109276345361), (873, 0.09295827374326691), (271, 0.09200364506417971), (598, 0.09188833946137397), (107, 0.09186377458879809), (281, 0.0914520288281898), (686, 0.08759497671449902), (805, 0.08742667205828845), (1067, 0.08688640716334141), (42, 0.08644162996642062), (1188, 0.08642995797579436), (306, 0.0861059697698217), (1388, 0.08591585016851855), (520, 0.0847683757424423), (1110, 0.08458042255520622), (1001, 0.0836154888469525), (440, 0.0828383277191392), (1036, 0.08218144629265826), (1221, 0.08178743000488334), (593, 0.08134038396173651), (1018, 0.08127388638022738), (1143, 0.08096132814481544), (818, 0.08090439342761915), (100, 0.07973168667366111), (294, 0.07959427361419871), (1243, 0.0792936191637582), (230, 0.07884638526630909), (894, 0.07860173707842578), (264, 0.07857973627583634), (442, 0.07853433642378668), (1312, 0.07851675239157535), (928, 0.07792242448859166), (315, 0.07783815750494344), (658, 0.07783359273748597), (1196, 0.07768935349528408), (954, 0.07753315210956642), (372, 0.07749448775083297), (361, 0.0774806350030509), (728, 0.07681903354711982), (369, 0.07632399056894953), (657, 0.07623052476845532), (62, 0.0757835090199424), (1053, 0.07569349312145283), (447, 0.0754596042444819), (980, 0.07530972622086572), (329, 0.07511759087138693), (336, 0.07454221653741037), (477, 0.07421421400178276), (51, 0.07332203917232351), (1230, 0.07325817781478426), (870, 0.07316913908126481), (319, 0.07298938983125215), (1342, 0.07244304239546766), (502, 0.07088451838266144), (1172, 0.0706195698653478), (549, 0.07057728562803181), (131, 0.07036450841964448), (978, 0.07014216777925418), (399, 0.06995537139578012), (600, 0.06991329309027804), (1051, 0.06943625576009944), (387, 0.06936013394554481), (116, 0.0692955272883561), (707, 0.0692358891448918), (573, 0.06895298511661739), (1151, 0.06893451349834942), (22, 0.06887100147272603), (185, 0.06857543125151354), (504, 0.06834554212288964), (1056, 0.06829990744993467), (244, 0.0681119334695276), (127, 0.06796050203484422), (66, 0.06789832627023118), (203, 0.06784273206250083), (594, 0.06776555737404945), (102, 0.06728537350747671), (91, 0.06693618484471861), (909, 0.0668124165613615), (237, 0.06678888344734069), (272, 0.06640900377740461), (1253, 0.06635735089118323), (406, 0.06623941468646265), (493, 0.06607857129263156), (500, 0.066070423845235), (842, 0.06599021714729225), (1354, 0.06560361080166524), (1366, 0.0654498534714005), (1281, 0.06488661423527749), (268, 0.06478116460097037), (164, 0.06465303721055005), (506, 0.06452376844624892), (1356, 0.06441355833998567), (864, 0.06343885579663439), (537, 0.06341719116002274), (326, 0.06336856030249544), (333, 0.06282359411393339), (621, 0.06279276453923306), (1279, 0.06275620258709191), (632, 0.06261929145918721), (207, 0.06238739716425755), (923, 0.062339034782640516), (256, 0.06221710005698951), (953, 0.061641537065165605), (341, 0.06141324419603827), (24, 0.06129556583088189), (160, 0.06096183148741721), (837, 0.06093833099225946), (998, 0.06088283206491144), (2, 0.06067550754558859), (435, 0.06047057778944031), (1054, 0.06023567775101507), (820, 0.06000299818783986), (396, 0.0594359197362581), (389, 0.05933203607774126), (238, 0.0591503228571254), (338, 0.05905175864395188), (117, 0.059026746573018735), (1150, 0.058964164892911605), (968, 0.05889678789179744), (178, 0.05880617429400733), (544, 0.058768195566233646), (1261, 0.05875343914574743), (526, 0.058731762294903), (539, 0.05865969758262424), (1004, 0.058586521865371534), (665, 0.05846156779508123), (97, 0.058401695795189175), (5, 0.05834183045690487), (799, 0.058320854345341386), (752, 0.05831722134075268), (202, 0.05787248998635212), (143, 0.05778822498297228), (726, 0.057784411700952), (7, 0.057582645106984666), (987, 0.057507778541461614), (1000, 0.05733364198295091), (850, 0.05726491885655562), (85, 0.05725347361387058), (967, 0.057024437402505526), (408, 0.05700197807480214), (715, 0.05698804755803162), (662, 0.05687698356803149), (357, 0.05650961296614543), (360, 0.05650215241742835), (151, 0.05608435593995181), (356, 0.055879423575501096), (882, 0.055762283033697305), (448, 0.05545015862646854), (775, 0.05534870308537809), (1118, 0.05518184883346225), (723, 0.05476769877858044), (620, 0.05474951675489309), (231, 0.054695943398192434), (970, 0.05465418549462649), (911, 0.054295128222058425), (180, 0.054244764818189246), (71, 0.054083782708208905), (1304, 0.05405091174975345), (874, 0.05397000870074696), (847, 0.05388900697262847), (242, 0.053660841200362505), (583, 0.05354451876161712), (459, 0.05337710869750731), (297, 0.05336556926702104), (57, 0.05326843711263278), (451, 0.05299009473285523), (507, 0.05298394304642713), (76, 0.05247383390188241), (1268, 0.052070765705231524), (879, 0.0520490633179621), (416, 0.052011750594199116), (339, 0.05200058002278249), (1191, 0.05189087740160008), (1088, 0.051804102342766466), (644, 0.05178397180569342), (37, 0.05166341970037394), (1147, 0.051573490427187285), (634, 0.05150159842577599), (377, 0.051420449553579196), (217, 0.051417892248740334), (228, 0.0512900683056264), (824, 0.05116751595426028), (204, 0.05098700650563749), (119, 0.05097574753408825), (1390, 0.050898096680566274), (349, 0.05079169258457983), (105, 0.05079022970831888), (474, 0.05062530514032198), (186, 0.05056126083105768), (1114, 0.05053029199110474), (489, 0.05024439773719452), (1310, 0.05019825161315935), (109, 0.049928890207581754), (31, 0.049890946813050334), (1113, 0.049780658176698696), (427, 0.049658325268634854), (580, 0.04947264488619965), (173, 0.04945966399610954), (664, 0.04945025491740463), (821, 0.049413612887575835), (532, 0.049314451691826446), (927, 0.04878851250651396), (77, 0.04863225993318769), (1311, 0.048589503052408375), (283, 0.04856129530665629), (867, 0.04851011196979471), (838, 0.048329942321425214), (1119, 0.04831055531356958), (534, 0.04829622666709404), (1129, 0.04827147625982392), (754, 0.04812939474960643), (515, 0.048008162774476844), (415, 0.047980194427893294), (912, 0.047947172555879256), (175, 0.04792662886032534), (454, 0.047922577313431906), (561, 0.04772279495261086), (33, 0.04770444507496738), (365, 0.04767684298688935), (6, 0.04730017975883599), (1, 0.04722260912980234), (88, 0.047196864036507725), (158, 0.04719577528068537), (35, 0.04711340065396799), (557, 0.047056247900940984), (654, 0.04703350100847654), (836, 0.04693173337291942), (1204, 0.04692382825864418), (1115, 0.04688167732624415), (209, 0.04687398006461989), (1378, 0.04677767296050796), (59, 0.0467444805019196), (1285, 0.04673106748520525), (591, 0.04663863311676479), (1078, 0.046576784819697716), (564, 0.04644674825247668), (1316, 0.04643756477081165), (566, 0.046368380653160825), (296, 0.04622700479908666), (20, 0.046218913518163464), (689, 0.04612609664827235), (984, 0.04610950284829733), (345, 0.0460859939539223), (712, 0.04603788252856649), (1010, 0.045932881979071284), (1369, 0.04585913193323673), (330, 0.04585801960745564), (787, 0.045777349775015436), (800, 0.04573018567552697), (1245, 0.045645084657571985), (768, 0.04543307462159569), (1007, 0.0454098897225073), (187, 0.04540673859873228), (355, 0.04530936065921577), (774, 0.045262044368183374), (130, 0.04520876129948386), (759, 0.04520511355359415), (994, 0.04516429907479843), (445, 0.04507337272489984), (270, 0.0448954259127224), (595, 0.044685348635356135), (1222, 0.04461413816056457), (756, 0.044591499212671304), (529, 0.04426133425372843), (1104, 0.044167498578986185), (27, 0.044159465788469895), (513, 0.044104800650923356), (973, 0.044058941775767246), (1012, 0.043901079206160085), (19, 0.04381801134185641), (48, 0.04378326334911016), (1363, 0.04363016335341423), (410, 0.043587135257095), (426, 0.04356923113116728), (648, 0.043501757103644366), (804, 0.04349621973928002), (688, 0.043334653090682365), (697, 0.0431419117971105), (989, 0.0428787093110899), (831, 0.04284252095324119), (390, 0.042824304895501666), (713, 0.04275645542826823), (290, 0.042726993775225264), (222, 0.04240565434865163), (198, 0.04219102434971855), (144, 0.04217219557923568), (423, 0.04214732905664058), (1046, 0.042107801409914394), (391, 0.04204294191433533), (1025, 0.042041995185946354), (673, 0.04203045278813511), (393, 0.042018703059993), (235, 0.041978500628463075), (780, 0.041958706461138806), (49, 0.04175869146107632), (608, 0.04164732515633351), (959, 0.04158584710516536), (467, 0.04153558567505301), (475, 0.04149832095743771), (872, 0.04143168065630495), (182, 0.041428177829721205), (417, 0.04135168766958393), (32, 0.041326944944920556), (418, 0.041213889331530904), (790, 0.04120243615935912), (1383, 0.041126982606254844), (606, 0.041055330363787675), (898, 0.04086633772233706), (732, 0.040774804387071636), (1039, 0.04072933296143704), (492, 0.04066986723661346), (1252, 0.040643494942868036), (80, 0.04047243688539191), (733, 0.04046669638709654), (193, 0.0403779129626788), (781, 0.04031838495949663), (903, 0.04023813525757391), (404, 0.04007939447621486), (137, 0.0400726209056675), (429, 0.04000109943817487), (392, 0.039875237115932056), (1179, 0.03985576554753805), (491, 0.039718961724573086), (1345, 0.03968777390603768), (886, 0.03950893652993516), (637, 0.03944110193936954), (1030, 0.03934063702548222), (858, 0.03932978662242407), (364, 0.039285399887440745), (388, 0.039107184214349736), (860, 0.038934434253785954), (633, 0.038916859188588934), (914, 0.03873372221432286), (1154, 0.03866798306806036), (938, 0.038476477321773984), (324, 0.038418323724990745), (292, 0.03841290740185072), (807, 0.03834063787218575), (437, 0.03822109236251788), (141, 0.03806161425996085), (1153, 0.038041533894900684), (155, 0.03798917681282513), (582, 0.037771348547049804), (1267, 0.03777113236603345), (395, 0.03775641388453298), (354, 0.03773271583676045), (243, 0.03767086856810883), (1063, 0.03766158524006264), (73, 0.03762310827646013), (636, 0.03760407024825129), (528, 0.03758978774934574), (466, 0.037512936226465315), (581, 0.037452819095997465), (550, 0.03737276410462805), (379, 0.03736936557345523), (910, 0.03722397895637889), (999, 0.03721761531699215), (527, 0.03713648739228367), (289, 0.037136457012533194), (794, 0.03711833982780153), (1152, 0.03706410224380172), (701, 0.03703144547693415), (1145, 0.03689717159680264), (902, 0.03676342952774895), (734, 0.03672555031081461), (584, 0.03669184009569397), (298, 0.03665593816488249), (1140, 0.03655190713332537), (108, 0.03651680315026297), (274, 0.036497656051447724), (849, 0.036474044594875146), (1233, 0.036425657129448105), (458, 0.03639268715552229), (86, 0.0361405379381993), (79, 0.03612415551017998), (1085, 0.03603914645270109), (1159, 0.036021173512217806), (1083, 0.03584004132307048), (533, 0.03580001969675306), (479, 0.035787326369316044), (34, 0.03553925547166232), (505, 0.035481523899486674), (572, 0.03541605435299684), (524, 0.035404627977948105), (626, 0.03539542591333865), (70, 0.03532699606960575), (400, 0.03523980527161571), (1309, 0.03523218118994655), (881, 0.03509192153001696), (1161, 0.035087718431986284), (762, 0.03507820717668504), (603, 0.03495452166654736), (866, 0.03485884278684195), (1371, 0.03483561377490327), (190, 0.03482157622554235), (196, 0.034803260094225213), (482, 0.03470615817175265), (536, 0.03468815485712002), (260, 0.034630403986471936), (81, 0.034576592613978906), (841, 0.03441683018009867), (161, 0.034412700686019766), (191, 0.03439818563009799), (1398, 0.03436642053239805), (577, 0.034355247828495805), (280, 0.03428433374740133), (433, 0.03424136331806735), (299, 0.03412597699518418), (814, 0.03411598684832842), (192, 0.03408414217907566), (376, 0.03403499968706471), (267, 0.03394286619025986), (1210, 0.03393446752498783), (61, 0.03389181680688973), (773, 0.033826614544007746), (932, 0.03381237295039951), (672, 0.03366614641981062), (698, 0.033483124297690424), (834, 0.03344082335146727), (248, 0.033378214642614756), (786, 0.03316855335503554), (646, 0.033141465076550664), (743, 0.03313318159637623), (123, 0.033126861538683584), (969, 0.03311327539796121), (546, 0.033083504286026647), (308, 0.03300788478045034), (845, 0.032820034782072904), (666, 0.03269952858939454), (455, 0.03256026975904473), (681, 0.032477444921071255), (676, 0.03243987594790922), (38, 0.03233057791450215), (205, 0.032301993364523884), (240, 0.03217454196803485), (213, 0.03211797727118823), (1219, 0.03208151972592716), (1137, 0.03207832216987512), (525, 0.03206677799728147), (325, 0.031972648925654254), (765, 0.0319699452132259), (72, 0.031910149623422826), (677, 0.03184100873434184), (567, 0.03182523773677899), (471, 0.03174444967870786), (331, 0.0317277701039165), (729, 0.03149581365936027), (43, 0.03147491781319105), (421, 0.03139174992277027), (535, 0.03130557986987464), (808, 0.03126738077884245), (663, 0.031219301784863627), (918, 0.031204789882888773), (1109, 0.031192457427179552), (705, 0.031145467103888345), (1193, 0.031101352315071617), (47, 0.03102678603504442), (431, 0.031001363642133288), (974, 0.030916597761069434), (913, 0.030852126489877535), (586, 0.03080792124126289), (809, 0.030765021454137013), (721, 0.030739877652450155), (0, 0.030715243665943512), (856, 0.030624357612734535), (402, 0.030602626827604333), (795, 0.030585948656754423), (640, 0.030559742351651566), (215, 0.03052080663672501), (851, 0.030511425614344355), (165, 0.03049497774402539), (607, 0.030447064282248065), (575, 0.03039265412518472), (819, 0.0303420749879934), (714, 0.03026907432137875), (1092, 0.030137245771961998), (194, 0.029892260769707173), (951, 0.02979271645837643), (1071, 0.029717100880335086), (87, 0.029631714854101952), (58, 0.02957775107510985), (942, 0.02949270709986349), (374, 0.029478471215452225), (452, 0.029424915543403374), (98, 0.029423543232504006), (609, 0.02941998768280114), (976, 0.029326522650508138), (68, 0.029325492170754364), (552, 0.02931788882009596), (1101, 0.02931503625188265), (457, 0.029307279306073856), (827, 0.029235022549124037), (891, 0.02922489643311542), (1073, 0.029211091112002978), (252, 0.029204653310726646), (277, 0.029025387275971905), (150, 0.02888370618425816), (115, 0.02886085327243861), (578, 0.02883649645309253), (103, 0.028819607575950642), (16, 0.02872975270743525), (571, 0.028706869585002754), (82, 0.028652740144722053), (660, 0.028549438099253196), (687, 0.028504953095168775), (844, 0.028460381069810747), (266, 0.028454336057113193), (323, 0.028381420866776665), (1257, 0.02835005222366029), (456, 0.028230276058775365), (1293, 0.028206651408393436), (420, 0.02816778152780805), (667, 0.027829042097943055), (398, 0.027825788715097718), (997, 0.02773743210245375), (926, 0.027731503158797684), (1313, 0.027696836776252252), (1103, 0.02768898665443144), (939, 0.02761234628721964), (741, 0.027575687342744445), (570, 0.02757229435297862), (1329, 0.027521078432214012), (352, 0.02751047186468345), (45, 0.02748127879355064), (699, 0.02744518715824186), (788, 0.02744384926357505), (265, 0.027397087273956303), (337, 0.027388878904822576), (94, 0.02735553000394013), (414, 0.027354893518853653), (893, 0.027342265793781136), (301, 0.027298467078140706), (75, 0.027194376291414996), (90, 0.02704084588687382), (1136, 0.026988672601711772), (381, 0.026915144653541515), (494, 0.026819998938339036), (63, 0.026755581846254192), (863, 0.026751720678366227), (241, 0.026706848708099525), (1095, 0.026609852430726277), (351, 0.0265178831877869), (485, 0.0265102512901794), (481, 0.02649528341785105), (317, 0.02626419712382292), (652, 0.026261780479305517), (538, 0.02624328489123528), (3, 0.026201507354383917), (1396, 0.026181723457666), (129, 0.026180166150642416), (197, 0.026135648523929664), (1168, 0.026113092723474843), (210, 0.026098392988941708), (1032, 0.02605198682451644), (935, 0.026033757148306913), (307, 0.025987252786691305), (1006, 0.025884608737181312), (1269, 0.025881129925321537), (239, 0.02584158226512385), (1021, 0.02581765850314037), (1102, 0.025791388160155262), (556, 0.0257802111776169), (518, 0.025752433300285232), (1131, 0.02574515066860514), (1158, 0.025660797040880395), (803, 0.025638883788508), (859, 0.02559302718403723), (370, 0.025584629418071023), (332, 0.025579649430941074), (1015, 0.025576959490776843), (373, 0.025553464202654568), (156, 0.025538630230984825), (503, 0.025511203468196), (11, 0.02548528473327758), (1308, 0.025448570345179798), (1258, 0.025423336661496765), (547, 0.025372547260826914), (835, 0.025356091934885916), (288, 0.025331697174267198), (368, 0.025252871954295084), (384, 0.025193549192138866), (649, 0.025186455900777248), (212, 0.025167129772101855), (118, 0.025158325057479135), (509, 0.025136024571539163), (397, 0.0251086328886267), (1017, 0.02509447478473384), (273, 0.025069907527929723), (553, 0.025043909543913306), (639, 0.024990474294072095), (1235, 0.02489573124233134), (148, 0.024889133419163236), (597, 0.02487035985799363), (39, 0.024850027074560434), (1353, 0.024791964773503965), (880, 0.02473585367008725), (1175, 0.024733914622242576), (353, 0.02470675100366974), (106, 0.024700999915359907), (501, 0.024684935075463602), (1047, 0.024634492640986782), (232, 0.02461120489488442), (407, 0.024556522990109967), (748, 0.024538068799396302), (1026, 0.024520390611903933), (907, 0.024469782080727864), (275, 0.024428693336743346), (618, 0.02440906108495281), (120, 0.024403311153481787), (1368, 0.02437855575435304), (1380, 0.024357734800788598), (60, 0.024294005570396113), (463, 0.024287775305748313), (1138, 0.024256182392863694), (10, 0.024173523588840937), (375, 0.024078642704337926), (1280, 0.023907139697377157), (1397, 0.023856830862432198), (36, 0.023828800065634443), (318, 0.023770257875609806), (1201, 0.023705182461765825), (469, 0.023690832036675612), (1208, 0.02368452325527738), (574, 0.023676613687423666), (679, 0.023668208776527092), (1139, 0.0236589001891053), (201, 0.023657353010737757), (545, 0.02364543525887808), (446, 0.02363470073340229), (766, 0.023613081634651874), (1300, 0.0235504315477797), (1330, 0.02354354538077242), (1299, 0.023519077197898555), (961, 0.023501438071444322), (703, 0.023478372677164204), (1365, 0.023428596694755194), (132, 0.02337444028248995), (630, 0.02334728013035648), (25, 0.023288020184477395), (1391, 0.02324545545754027), (744, 0.023242515782499897), (764, 0.023220969532653256), (727, 0.023176640478692827), (920, 0.023127775322692425), (625, 0.02311185647104631), (171, 0.023072465790393817), (846, 0.02304950231080926), (960, 0.0230366866546656), (1263, 0.02301172022058245), (480, 0.022975293289033975), (1097, 0.022973584475198934), (1234, 0.022932126285722276), (1266, 0.022932126285722276), (170, 0.022901536779209385), (1372, 0.0228806552853274), (95, 0.022874476024430018), (1081, 0.022858551047872874), (1186, 0.022858551047872874), (1090, 0.022821744388842248), (1289, 0.022761921747306305), (312, 0.022751065034576672), (1323, 0.022638719887799415), (1198, 0.02260331458008175), (181, 0.02253402854461129), (1066, 0.02249275369642292), (227, 0.02246014971207241), (950, 0.022349485487361497), (1247, 0.022341261653773127), (1207, 0.022323878763654215), (1005, 0.022298532691787505), (146, 0.022291858086921804), (772, 0.022286474567397668), (826, 0.02225798824443061), (700, 0.022252953068348232), (159, 0.02223474051299574), (1317, 0.022197835489495752), (346, 0.02216169341410909), (287, 0.022124521260395092), (635, 0.022120276964611493), (153, 0.02210189433189442), (1178, 0.022069932630819487), (1182, 0.022069932630819487), (1184, 0.022069932630819487), (378, 0.02202507555634619), (730, 0.02197982042329709), (1251, 0.02192527830322906), (163, 0.02189613521271555), (166, 0.02188173724427616), (1374, 0.02182418323959158), (641, 0.021786530412149223), (706, 0.021755199349769383), (1044, 0.021740170097764078), (1250, 0.021740170097764078), (149, 0.021653766967660665), (483, 0.021552184459029677), (962, 0.021534887030104487), (653, 0.021529324823083403), (1320, 0.021524189650237682), (993, 0.021514807009616176), (1024, 0.021511730981885187), (659, 0.021468767222641537), (13, 0.021468383094676677), (753, 0.021457214789787397), (422, 0.02143927219468168), (55, 0.02141405136201599), (403, 0.02140671676425859), (1347, 0.021383561525425393), (857, 0.02127703123216691), (1294, 0.021201078600814115), (1014, 0.0211424253782739), (224, 0.021032584957384283), (1072, 0.020989058085736905), (946, 0.02094543866958379), (1355, 0.020929273098467586), (656, 0.02091713995425123), (767, 0.020916443401239486), (321, 0.020900115961690315), (113, 0.02087524975400627), (1382, 0.020835121914971857), (1231, 0.020788192570461154), (619, 0.020708298601142747), (385, 0.020683469963318542), (861, 0.020676177514543613), (796, 0.02067468840369286), (599, 0.020641962156581685), (1255, 0.020641962156581685), (702, 0.02061895546055813), (1125, 0.02055165237399639), (1336, 0.020494179688908955), (521, 0.020490825601448912), (1170, 0.02045258569914752), (1016, 0.020443489822461584), (478, 0.020437023527404483), (1089, 0.02040769608734779), (1327, 0.020386691578461263), (519, 0.02030315351399056), (269, 0.02029376795435299), (955, 0.020287265778969214), (852, 0.020260064917126713), (680, 0.02025297347409881), (905, 0.020230577975939076), (783, 0.02017703578202466), (1035, 0.02014161725918717), (671, 0.020014013955044787), (958, 0.01996075519516148), (278, 0.01995778927798227), (226, 0.019908452032068577), (1224, 0.019873386166895827), (1262, 0.01986335839862109), (1259, 0.019835025036423697), (1205, 0.01981208398248068), (840, 0.019790488237208033), (1082, 0.019713927947446305), (1059, 0.01969577711548923), (139, 0.01965382757894746), (1386, 0.01964636225886164), (174, 0.01963675913726044), (1384, 0.019555554863502172), (1254, 0.019519378460599538), (1273, 0.01941088174235556), (1387, 0.019383820806951123), (83, 0.01929977553646604), (221, 0.01929962347823135), (1364, 0.019298035086686136), (1100, 0.019292475768192343), (829, 0.019284830005135315), (1020, 0.01927767914462538), (1008, 0.01925697893792956), (1189, 0.01916671666313777), (957, 0.019166032025037846), (540, 0.019162727944284544), (888, 0.019152884065437203), (84, 0.019143859392965444), (674, 0.019111554299500965), (668, 0.01906135440094378), (716, 0.018992990632888188), (305, 0.01898444863857632), (746, 0.01898263649044024), (832, 0.018977143398790395), (943, 0.018969796519680098), (1162, 0.018899263379347078), (802, 0.018896895893205496), (258, 0.018892120803292313), (1050, 0.018863998113923763), (487, 0.018845697385320975), (470, 0.0188373937168353), (1202, 0.01882228662798285), (44, 0.01879890857935161), (922, 0.018778356042791704), (1122, 0.018778356042791704), (23, 0.018771269597271725), (785, 0.018723002593460505), (642, 0.01870330930335646), (320, 0.018702866156926297), (830, 0.018651607702970134), (661, 0.01864809256511563), (30, 0.018621287462434882), (627, 0.01860576306246744), (484, 0.018480904028621223), (1248, 0.01842244013947243), (101, 0.01839871325048688), (1240, 0.018369800346059128), (1165, 0.018367111476948195), (1377, 0.01835409705772083), (925, 0.01832312258200043), (411, 0.018311000137538506), (558, 0.01830520812275829), (704, 0.01827991121628654), (645, 0.018279692924315746), (710, 0.018279692924315746), (758, 0.018279692924315746), (29, 0.018254466035485757), (367, 0.018235673886886447), (1086, 0.01823111002982386), (394, 0.01822397878629439), (386, 0.01818894363193178), (220, 0.018165360481216912), (933, 0.01813485415104844), (1241, 0.018132644786482882), (761, 0.018097172483970497), (1307, 0.018096799510541942), (8, 0.01808995054324071), (96, 0.018066105560907108), (1275, 0.018055579446605796), (172, 0.018019940232860812), (4, 0.01799219416038693), (1064, 0.017971966548283157), (1166, 0.017955247381142642), (720, 0.01792735403782588), (314, 0.017924505254338235), (436, 0.017921344259843396), (522, 0.017912908024463974), (638, 0.01786880093728206), (675, 0.01786880093728206), (685, 0.01786880093728206), (236, 0.017849896815611145), (631, 0.01782660692036466), (64, 0.017799570083833417), (1075, 0.01776187340388025), (622, 0.017752225625490566), (623, 0.017670740625536373), (615, 0.01763674296816955), (359, 0.017593911565467638), (877, 0.017581668069973806), (168, 0.017531489814627405), (219, 0.017476781340361486), (184, 0.017417931337224205), (65, 0.01740987408144726), (892, 0.017403652023035197), (135, 0.017372089548129), (722, 0.01726763717082435), (1277, 0.017245346309340485), (777, 0.017221397605084513), (1287, 0.017164110410189788), (854, 0.017143573586644555), (904, 0.017125647200488706), (293, 0.017121908083725094), (868, 0.01710668876384615), (749, 0.017101515851215873), (1227, 0.016985434812595925), (884, 0.016954934063770428), (12, 0.016908583588027784), (225, 0.01685055471828877), (126, 0.01683095932079361), (328, 0.01681816237483212), (629, 0.016802939065526396), (963, 0.01675680440599985), (1041, 0.016755846543193217), (1049, 0.01673353622635588), (848, 0.016720767061165185), (798, 0.016655092467613937), (683, 0.01656580570829894), (254, 0.01654622283478535), (162, 0.016530715637858826), (499, 0.01649441755258301), (981, 0.01647567174028935), (276, 0.016412894754991976), (1011, 0.016386237241157512), (233, 0.01634851089075053), (110, 0.016328407044477418), (1169, 0.016314301501576974), (670, 0.016313472893322384), (443, 0.0162748109664239), (1128, 0.01619941166955883), (218, 0.01617476494688901), (147, 0.01616101431377155), (449, 0.016128486813546766), (279, 0.0161243661616254), (983, 0.016111386811178702), (585, 0.016067124002246212), (468, 0.01598863976209793), (966, 0.01597012032222314), (409, 0.01595998849692896), (251, 0.01584997490220002), (335, 0.015817180935937553), (1160, 0.015711957623605364), (817, 0.01567305833006472), (555, 0.01564448742597989), (1195, 0.015627727469270495), (1052, 0.015610070832824414), (614, 0.015474085862575506), (1087, 0.015408228053375862), (14, 0.015392819234393663), (450, 0.01536793102017056), (562, 0.01536606795386197), (897, 0.015326267459559433), (949, 0.015289372423693479), (128, 0.015242024623712162), (67, 0.01523544784735485), (295, 0.015195753977655522), (1278, 0.015156597709979644), (1069, 0.015100569024167329), (511, 0.015072092891801937), (908, 0.015065830191217811), (140, 0.015060638098074442), (136, 0.015039231738268825), (263, 0.014974086646156768), (358, 0.014969434361847372), (769, 0.014952230051351894), (930, 0.014937703728831343), (941, 0.014898120171833628), (579, 0.014877369921124123), (1194, 0.01483791137471327), (40, 0.014748452032449576), (383, 0.014685789728381967), (200, 0.014684874119881168), (929, 0.014633499062311605), (214, 0.01462127365974793), (253, 0.014598286162447356), (569, 0.014457501376595523), (1033, 0.01443614569554943), (548, 0.014427222706696288), (498, 0.014393925448984095), (1080, 0.014338091425121569), (1346, 0.01419807820806003), (17, 0.014149406065783101), (589, 0.014110168215029958), (986, 0.01403775797159578), (1274, 0.013897688569182054), (979, 0.01384398518443163), (855, 0.013807454716106745), (779, 0.013775260262580944), (695, 0.013757423322555392), (655, 0.01374620633411269), (568, 0.013692300756995165), (89, 0.01367247244410189), (425, 0.013499824711975679), (738, 0.013443052498503813), (1055, 0.01343665683494192), (815, 0.01343357942615053), (424, 0.013397078934896771), (138, 0.013390461862603467), (763, 0.013387622690007003), (1079, 0.013351657126599359), (791, 0.01331082985826906), (541, 0.013300856053886768), (438, 0.013289546297115457), (1126, 0.013188603186851501), (434, 0.013172848014940144), (15, 0.013168164946491034), (1098, 0.013073908037295271), (825, 0.013062131969190451), (1200, 0.013061772728109471), (1130, 0.013045315174279964), (342, 0.013029258884898403), (21, 0.013015097454610835), (300, 0.012973679082958527), (843, 0.012950446709663641), (770, 0.012859373605878693), (1344, 0.01282704711112469), (747, 0.012815512386055201), (1127, 0.012658149731026294), (111, 0.012618479469488967), (473, 0.01259204118878629), (718, 0.012463754818964567), (428, 0.012447276569980632), (900, 0.012391604920992425), (1236, 0.012294456123908105), (543, 0.012148656955072007), (78, 0.01206540541875769), (1225, 0.012047891237040864), (1070, 0.01202669080329092), (9, 0.011945916093690907), (878, 0.011905409846197073), (650, 0.011901784321285814), (937, 0.01180925175119383), (439, 0.011791484081573194), (816, 0.011789649384392854), (853, 0.011728008644034761), (611, 0.011671103924645786), (691, 0.011647807461334356), (309, 0.011579746495037867), (812, 0.01157498760326792), (344, 0.011561062203261217), (28, 0.011557331169324244), (956, 0.011556909694377025), (602, 0.011543679139266877), (310, 0.01152063124632725), (444, 0.011482852711458123), (616, 0.011464763926666401), (740, 0.011451653158281047), (154, 0.011378464477246941), (906, 0.011374504427438023), (590, 0.011334512869692365), (1181, 0.011302350872636247), (755, 0.01127816775253755), (179, 0.011268304626533238), (195, 0.01126630583742124), (169, 0.01124875837245589), (453, 0.011246541998027014), (229, 0.011244103019991526), (124, 0.011189353204096924), (1337, 0.011188691358044029), (883, 0.011182690886887944), (724, 0.011119714696154005), (531, 0.01106470339490565), (1211, 0.011056168915848718), (896, 0.010966742676010596), (380, 0.010945432421627772), (69, 0.010758722552923896), (177, 0.010731374556801437), (1134, 0.010728004917144018), (183, 0.010698636428944244), (488, 0.010616101931273568), (1352, 0.010579227534990748), (517, 0.010535445046528156), (952, 0.010462086132740491), (1376, 0.010437510728191126), (152, 0.010409200752412834), (1215, 0.010360392116356783), (496, 0.010275891697249252), (992, 0.010274621595243935), (737, 0.010245047891009114), (41, 0.010240387362551888), (612, 0.010175047941830188), (74, 0.010163054210450877), (363, 0.010136062590768397), (750, 0.010117241803237973), (1214, 0.010051722652140728), (971, 0.009903878608883077), (587, 0.009899312115626531), (145, 0.009897598124725916), (1302, 0.009891125352723695), (1343, 0.009884100791768692), (901, 0.009849929050735257), (291, 0.009844063352016135), (516, 0.009842463746944686), (52, 0.009826011978479203), (592, 0.009812702491574935), (865, 0.009735087513414741), (559, 0.009725956901196368), (1124, 0.009709127147375301), (112, 0.009706478390391151), (245, 0.009659841217951829), (401, 0.009522740159524149), (462, 0.009517718820129641), (1009, 0.009441422198733713), (985, 0.009349171885016029), (1199, 0.009340326195411775), (793, 0.00925778545455187), (461, 0.009254028335808216), (176, 0.009247173653129794), (189, 0.009204242662374214), (613, 0.009042619625303979), (412, 0.009034283066143216), (133, 0.009023907321551986), (262, 0.009003588445459855), (1105, 0.008965670274941596), (497, 0.008867524658448984), (1338, 0.008802890500135758), (588, 0.008772440867911357), (114, 0.008769473930542932), (915, 0.008765276453175763), (1144, 0.008689897332300951), (188, 0.008607260551856366), (1173, 0.008545059261832195), (871, 0.008514151493316574), (1232, 0.008504067937189934), (510, 0.008477101581769175), (1187, 0.00845783452139388), (1061, 0.008381908683210641), (1192, 0.008363853096589734), (1037, 0.00835436818290815), (50, 0.00830053059863405), (303, 0.008284349241674585), (757, 0.008209067984941875), (1271, 0.00820570231704416), (142, 0.008189439017043821), (1341, 0.008150391067417702), (551, 0.00813758958782154), (285, 0.00812449316961322), (246, 0.008091049810143532), (282, 0.008046429532530878), (92, 0.008037958865418325), (419, 0.00802759405019102), (1002, 0.008012114931470618), (916, 0.007952330616663141), (512, 0.007950957362765408), (257, 0.007940969281577935), (134, 0.00793550392122148), (495, 0.007865955726942417), (1077, 0.007810444252825431), (944, 0.007805278124057596), (1197, 0.00777853455821885), (259, 0.007740860300708611), (490, 0.007702628296102766), (1174, 0.007648166349095631), (1023, 0.007643545441541267), (709, 0.007595200469234169), (1392, 0.007399336624600792), (350, 0.007397946231138337), (486, 0.007316172463754025), (1379, 0.007316085925953583), (211, 0.007203898214180196), (1180, 0.007199323328597492), (1142, 0.007197851319240567), (1038, 0.00718948311894116), (167, 0.007167274388192949), (476, 0.007146423219274781), (931, 0.0071237294769634), (1282, 0.0070660687494687405), (382, 0.006988830439186712), (343, 0.00698583192911038), (982, 0.006968409152413844), (157, 0.006955630144352799), (206, 0.006924498600879179), (93, 0.00692250738235844), (1272, 0.006906324954131222), (725, 0.006864117980575206), (1027, 0.006677272425168769), (302, 0.0066771435503830134), (347, 0.006621361663072092), (327, 0.006498087567661849), (199, 0.006462583135737679), (530, 0.006445727649806114), (247, 0.006274017320914422), (1149, 0.0062142073193481515), (1296, 0.0062094158823821875), (924, 0.006184887679392697), (1223, 0.0061632539995650345), (694, 0.0061435838624346), (651, 0.006073404732802523), (1303, 0.006066912117792477), (1203, 0.006042560679478477), (1216, 0.005966379131851276), (216, 0.00595796064068023), (26, 0.005944573789229279), (1237, 0.005932750264116961), (751, 0.005889112468250274), (1068, 0.005880199893275843), (460, 0.005864495003174626), (1334, 0.0058294001873936685), (643, 0.0058178346146521825), (56, 0.00579704626946012), (1183, 0.005732047259884196), (940, 0.0057250286974846925), (255, 0.0056773609091069314), (99, 0.00567182414235887), (554, 0.00564393200769525), (1244, 0.005623127327260636), (1315, 0.005621915769838615), (284, 0.0056099245445416996), (1389, 0.005568706552685899), (286, 0.005563991205794071), (1326, 0.0054803201518891466), (1270, 0.005473891179146551), (1228, 0.005473124618989511), (778, 0.005471488569948311), (990, 0.00544821699916968), (1045, 0.005395324456801882), (208, 0.005387635469362411), (624, 0.005293326851001142), (121, 0.005269697161930554), (936, 0.005256143930834608), (690, 0.005180262003334488), (717, 0.0051675140391061235), (1048, 0.005164652004197785), (1264, 0.0051628225046895055), (371, 0.005092310673136736), (1084, 0.004970335349497411), (366, 0.004942784405779359), (316, 0.004882090270366261), (464, 0.004865274650801941), (311, 0.0048353178152948685), (432, 0.00464803384814256), (965, 0.004636187005968155), (122, 0.00454653533399733), (731, 0.004506317644602406), (601, 0.004420744543133286), (647, 0.004325019733197776), (125, 0.00432405414628356), (1163, 0.004282821695159595), (542, 0.004264823466751765), (1246, 0.004220206202868333), (782, 0.0041257276273707726), (1190, 0.0040693295780917455), (1399, 0.004016349017636368), (887, 0.003958360918875529), (890, 0.0038879189970370378), (413, 0.0038833901281767605), (304, 0.0037232371434842357), (1120, 0.0037182512047251176), (405, 0.0035208992630339554), (261, 0.00320549585212307), (54, 0.0), (104, 0.0), (234, 0.0), (250, 0.0), (334, 0.0), (348, 0.0), (430, 0.0), (441, 0.0), (465, 0.0), (472, 0.0), (508, 0.0), (523, 0.0), (563, 0.0), (565, 0.0), (596, 0.0), (604, 0.0), (605, 0.0), (617, 0.0), (669, 0.0), (678, 0.0), (682, 0.0), (684, 0.0), (693, 0.0), (696, 0.0), (708, 0.0), (735, 0.0), (736, 0.0), (739, 0.0), (742, 0.0), (745, 0.0), (760, 0.0), (771, 0.0), (776, 0.0), (792, 0.0), (797, 0.0), (806, 0.0), (810, 0.0), (811, 0.0), (813, 0.0), (823, 0.0), (833, 0.0), (839, 0.0), (862, 0.0), (869, 0.0), (875, 0.0), (876, 0.0), (885, 0.0), (889, 0.0), (895, 0.0), (899, 0.0), (917, 0.0), (919, 0.0), (921, 0.0), (934, 0.0), (945, 0.0), (947, 0.0), (948, 0.0), (964, 0.0), (972, 0.0), (975, 0.0), (977, 0.0), (988, 0.0), (991, 0.0), (995, 0.0), (996, 0.0), (1003, 0.0), (1013, 0.0), (1019, 0.0), (1022, 0.0), (1028, 0.0), (1029, 0.0), (1031, 0.0), (1034, 0.0), (1040, 0.0), (1042, 0.0), (1043, 0.0), (1057, 0.0), (1058, 0.0), (1060, 0.0), (1062, 0.0), (1065, 0.0), (1074, 0.0), (1076, 0.0), (1091, 0.0), (1096, 0.0), (1099, 0.0), (1106, 0.0), (1107, 0.0), (1108, 0.0), (1111, 0.0), (1112, 0.0), (1116, 0.0), (1117, 0.0), (1121, 0.0), (1123, 0.0), (1132, 0.0), (1133, 0.0), (1135, 0.0), (1141, 0.0), (1146, 0.0), (1148, 0.0), (1155, 0.0), (1156, 0.0), (1157, 0.0), (1167, 0.0), (1171, 0.0), (1176, 0.0), (1177, 0.0), (1185, 0.0), (1206, 0.0), (1212, 0.0), (1213, 0.0), (1217, 0.0), (1218, 0.0), (1220, 0.0), (1229, 0.0), (1238, 0.0), (1239, 0.0), (1242, 0.0), (1249, 0.0), (1256, 0.0), (1260, 0.0), (1265, 0.0), (1276, 0.0), (1283, 0.0), (1284, 0.0), (1286, 0.0), (1288, 0.0), (1290, 0.0), (1291, 0.0), (1292, 0.0), (1295, 0.0), (1297, 0.0), (1298, 0.0), (1301, 0.0), (1305, 0.0), (1306, 0.0), (1314, 0.0), (1318, 0.0), (1319, 0.0), (1321, 0.0), (1322, 0.0), (1324, 0.0), (1325, 0.0), (1328, 0.0), (1331, 0.0), (1332, 0.0), (1333, 0.0), (1335, 0.0), (1339, 0.0), (1340, 0.0), (1348, 0.0), (1349, 0.0), (1350, 0.0), (1351, 0.0), (1357, 0.0), (1358, 0.0), (1359, 0.0), (1360, 0.0), (1361, 0.0), (1362, 0.0), (1367, 0.0), (1370, 0.0), (1373, 0.0), (1375, 0.0), (1381, 0.0), (1393, 0.0), (1394, 0.0), (1395, 0.0)]\n"
     ]
    }
   ],
   "source": [
    "# sorting the movies based on their similarity score\n",
    "\n",
    "sorted_similar_movies = sorted(similarity_score, key = lambda x:x[1], reverse = True) \n",
    "print(sorted_similar_movies)"
   ]
  },
  {
   "cell_type": "code",
   "execution_count": 21,
   "id": "fb0de9b9",
   "metadata": {
    "scrolled": true
   },
   "outputs": [
    {
     "name": "stdout",
     "output_type": "stream",
     "text": [
      "Movies suggested for you : \n",
      "\n",
      "1 . Athadu\n",
      "2 . King\n",
      "3 . Amar Akbar Anthony\n",
      "4 . Nenu Meeku Telusa...?\n",
      "5 . Sindhooram\n",
      "6 . Goodachari\n",
      "7 . Disco Raja\n",
      "8 . Bruce Lee: The Fighter\n",
      "9 . Alludugaru\n",
      "10 . Alludu Seenu\n",
      "11 . Kadaram Kondan\n",
      "12 . Sandhippoma\n",
      "13 . Allari Police\n",
      "14 . Shock\n",
      "15 . Andha Oru Nimidam\n",
      "16 . Billa\n",
      "17 . Rama Rama Krishna Krishna\n",
      "18 . Yogi\n",
      "19 . Kondaveeti Simham\n",
      "20 . Srimannarayana\n",
      "21 . Mechanic Alludu\n",
      "22 . Seven\n",
      "23 . Veerabhadra\n",
      "24 . Shadow\n",
      "25 . Vijayendra Varama\n",
      "26 . Lorry Driver\n",
      "27 . Brahma\n",
      "28 . Subha Sankalpam\n",
      "29 . Gulabi\n"
     ]
    }
   ],
   "source": [
    "# print the name of similar movies based on the index\n",
    "\n",
    "print('Movies suggested for you : \\n')\n",
    "\n",
    "i = 1\n",
    "\n",
    "for movie in sorted_similar_movies:\n",
    "  Index = movie[0]\n",
    "  title_from_index = movies_data[movies_data.Index==Index]['Movie'].values[0]\n",
    "  if (i<30):\n",
    "    print(i, '.',title_from_index)\n",
    "    i+=1"
   ]
  },
  {
   "cell_type": "code",
   "execution_count": null,
   "id": "4a9ce9eb",
   "metadata": {},
   "outputs": [],
   "source": []
  },
  {
   "cell_type": "code",
   "execution_count": null,
   "id": "28472a25",
   "metadata": {},
   "outputs": [],
   "source": []
  },
  {
   "cell_type": "code",
   "execution_count": null,
   "id": "efd11506",
   "metadata": {},
   "outputs": [],
   "source": []
  },
  {
   "cell_type": "code",
   "execution_count": null,
   "id": "dd13352e",
   "metadata": {},
   "outputs": [],
   "source": []
  },
  {
   "cell_type": "code",
   "execution_count": null,
   "id": "897f1993",
   "metadata": {},
   "outputs": [],
   "source": []
  },
  {
   "cell_type": "code",
   "execution_count": null,
   "id": "6146b0b5",
   "metadata": {},
   "outputs": [],
   "source": []
  }
 ],
 "metadata": {
  "kernelspec": {
   "display_name": "Python 3.11.5 ('base')",
   "language": "python",
   "name": "python3"
  },
  "language_info": {
   "codemirror_mode": {
    "name": "ipython",
    "version": 3
   },
   "file_extension": ".py",
   "mimetype": "text/x-python",
   "name": "python",
   "nbconvert_exporter": "python",
   "pygments_lexer": "ipython3",
   "version": "3.11.5"
  },
  "vscode": {
   "interpreter": {
    "hash": "2402f5bb810a2b6a4e2b10c6eaa2658dee030e8636311eda3f04bf05f663be2a"
   }
  }
 },
 "nbformat": 4,
 "nbformat_minor": 5
}
